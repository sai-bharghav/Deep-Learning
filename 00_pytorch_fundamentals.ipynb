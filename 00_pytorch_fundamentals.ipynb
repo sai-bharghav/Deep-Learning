{
  "nbformat": 4,
  "nbformat_minor": 0,
  "metadata": {
    "colab": {
      "private_outputs": true,
      "provenance": [],
      "include_colab_link": true
    },
    "kernelspec": {
      "name": "python3",
      "display_name": "Python 3"
    },
    "language_info": {
      "name": "python"
    }
  },
  "cells": [
    {
      "cell_type": "markdown",
      "metadata": {
        "id": "view-in-github",
        "colab_type": "text"
      },
      "source": [
        "<a href=\"https://colab.research.google.com/github/sai-bharghav/Deep-Learning/blob/main/00_pytorch_fundamentals.ipynb\" target=\"_parent\"><img src=\"https://colab.research.google.com/assets/colab-badge.svg\" alt=\"Open In Colab\"/></a>"
      ]
    },
    {
      "cell_type": "markdown",
      "source": [
        "## 00 - Pytorch Fundamentals\n"
      ],
      "metadata": {
        "id": "RI1tZg5PDPuB"
      }
    },
    {
      "cell_type": "code",
      "execution_count": null,
      "metadata": {
        "id": "ne1YMz4qCnqk"
      },
      "outputs": [],
      "source": [
        "import torch\n",
        "import pandas as pd\n",
        "import numpy as np\n",
        "import matplotlib.pyplot as plt\n",
        "print(torch.__version__)"
      ]
    },
    {
      "cell_type": "markdown",
      "source": [
        "## Introduction to tensors\n"
      ],
      "metadata": {
        "id": "89LqyfT3DG49"
      }
    },
    {
      "cell_type": "markdown",
      "source": [
        "Creating tensors"
      ],
      "metadata": {
        "id": "d9AhTr55EW_W"
      }
    },
    {
      "cell_type": "code",
      "source": [
        "# Scalar\n",
        "scalar = torch.tensor(7)\n",
        "scalar"
      ],
      "metadata": {
        "id": "wpgaxKQDEZCi"
      },
      "execution_count": null,
      "outputs": []
    },
    {
      "cell_type": "code",
      "source": [
        "scalar.ndim"
      ],
      "metadata": {
        "id": "p3KqL1g-EeSZ"
      },
      "execution_count": null,
      "outputs": []
    },
    {
      "cell_type": "code",
      "source": [
        "scalar.item() # Get tensor back as python int"
      ],
      "metadata": {
        "id": "C77B7B88ErdL"
      },
      "execution_count": null,
      "outputs": []
    },
    {
      "cell_type": "code",
      "source": [
        "# Vector\n",
        "vector = torch.tensor([7,7])\n",
        "vector"
      ],
      "metadata": {
        "id": "xcWT80TrE8K5"
      },
      "execution_count": null,
      "outputs": []
    },
    {
      "cell_type": "code",
      "source": [
        "vector.ndim"
      ],
      "metadata": {
        "id": "Qy26V4vGFDCF"
      },
      "execution_count": null,
      "outputs": []
    },
    {
      "cell_type": "code",
      "source": [
        "vector.shape"
      ],
      "metadata": {
        "id": "M-oo47oGFMeg"
      },
      "execution_count": null,
      "outputs": []
    },
    {
      "cell_type": "code",
      "source": [
        "#Matrix\n",
        "MATRIX = torch.tensor([[7,8],[2,3]])\n",
        "MATRIX"
      ],
      "metadata": {
        "id": "ga6PPvU3FRis"
      },
      "execution_count": null,
      "outputs": []
    },
    {
      "cell_type": "code",
      "source": [
        "MATRIX.ndim"
      ],
      "metadata": {
        "id": "5mjbEdCWFdPF"
      },
      "execution_count": null,
      "outputs": []
    },
    {
      "cell_type": "code",
      "source": [
        "MATRIX.shape"
      ],
      "metadata": {
        "id": "5Dg2IxU6FjpY"
      },
      "execution_count": null,
      "outputs": []
    },
    {
      "cell_type": "code",
      "source": [
        "MATRIX[0]"
      ],
      "metadata": {
        "id": "7UHA6CvXFlTO"
      },
      "execution_count": null,
      "outputs": []
    },
    {
      "cell_type": "code",
      "source": [
        "MATRIX[1]"
      ],
      "metadata": {
        "id": "iLNyMr0LFmjq"
      },
      "execution_count": null,
      "outputs": []
    },
    {
      "cell_type": "code",
      "source": [
        "#TENSOR\n",
        "TENSOR = torch.tensor([[[1,2,3],\n",
        "                        [4,5,6],\n",
        "                        [7,8,9]]])\n",
        "TENSOR"
      ],
      "metadata": {
        "id": "NKKiIVWUFoA2"
      },
      "execution_count": null,
      "outputs": []
    },
    {
      "cell_type": "code",
      "source": [
        "TENSOR.ndim"
      ],
      "metadata": {
        "id": "F7ktHabhF7ME"
      },
      "execution_count": null,
      "outputs": []
    },
    {
      "cell_type": "code",
      "source": [
        "TENSOR.shape"
      ],
      "metadata": {
        "id": "v5dl9hnKF971"
      },
      "execution_count": null,
      "outputs": []
    },
    {
      "cell_type": "code",
      "source": [
        "TENSOR[0]"
      ],
      "metadata": {
        "id": "TIjHPNKmF_sq"
      },
      "execution_count": null,
      "outputs": []
    },
    {
      "cell_type": "code",
      "source": [
        "TENSOR[0,2,1]"
      ],
      "metadata": {
        "id": "orKoG-VyGLkb"
      },
      "execution_count": null,
      "outputs": []
    },
    {
      "cell_type": "markdown",
      "source": [
        " ## Random Tensors\n",
        "\n",
        " Why random tensors?\n",
        "\n",
        " Random tensors are important because the way many neural networks learn is that they start with tensors full of random numbers and then adjust those random numbers to better represent the data.\n",
        "\n",
        " ` Start with random number -> look at data -> update random numbers -> look at data -> update random numbers`"
      ],
      "metadata": {
        "id": "-7A-mWYwGOcB"
      }
    },
    {
      "cell_type": "code",
      "source": [
        "# Create a random tensor of size (3,4)\n",
        "random_tensor = torch.rand((3,4))\n",
        "random_tensor"
      ],
      "metadata": {
        "id": "nnCULkBOJGlP"
      },
      "execution_count": null,
      "outputs": []
    },
    {
      "cell_type": "code",
      "source": [
        "random_tensor.ndim"
      ],
      "metadata": {
        "id": "b9oL1yumJybz"
      },
      "execution_count": null,
      "outputs": []
    },
    {
      "cell_type": "code",
      "source": [
        "random_tensor.shape"
      ],
      "metadata": {
        "id": "PUwAVEaLKI6c"
      },
      "execution_count": null,
      "outputs": []
    },
    {
      "cell_type": "code",
      "source": [
        "# Create a random tensor with similar shape to an image tensor\n",
        "random_image_size_tensor = torch.rand(size=(3,224,224)) # Height width,colorchannel\n",
        "random_image_size_tensor.ndim"
      ],
      "metadata": {
        "id": "KHduWQ0fKVem"
      },
      "execution_count": null,
      "outputs": []
    },
    {
      "cell_type": "markdown",
      "source": [
        "## Zeros and Ones"
      ],
      "metadata": {
        "id": "foTghWIBKpWB"
      }
    },
    {
      "cell_type": "code",
      "source": [
        "# Create a tensor for all zeros\n",
        "zero = torch.zeros((3,4))\n",
        "zero"
      ],
      "metadata": {
        "id": "6oHzrSEWLFT3"
      },
      "execution_count": null,
      "outputs": []
    },
    {
      "cell_type": "code",
      "source": [
        "zero*random_tensor"
      ],
      "metadata": {
        "id": "rVLK0WuALKVr"
      },
      "execution_count": null,
      "outputs": []
    },
    {
      "cell_type": "code",
      "source": [
        "ones = torch.ones((3,4))\n",
        "ones"
      ],
      "metadata": {
        "id": "XhI3kYqyLMBG"
      },
      "execution_count": null,
      "outputs": []
    },
    {
      "cell_type": "code",
      "source": [
        "ones.dtype"
      ],
      "metadata": {
        "id": "LHUnzQzRLSc5"
      },
      "execution_count": null,
      "outputs": []
    },
    {
      "cell_type": "code",
      "source": [
        "random_tensor.dtype"
      ],
      "metadata": {
        "id": "2QD39Ye9LToo"
      },
      "execution_count": null,
      "outputs": []
    },
    {
      "cell_type": "markdown",
      "source": [
        "## Creating a range of tensors and tensors-like"
      ],
      "metadata": {
        "id": "MzkzNUDlLVpi"
      }
    },
    {
      "cell_type": "code",
      "source": [
        "# Use torch.range()\n",
        "torch.range(0,10)"
      ],
      "metadata": {
        "id": "MpQtIp9hLhhm"
      },
      "execution_count": null,
      "outputs": []
    },
    {
      "cell_type": "code",
      "source": [
        "one_to_ten = torch.arange(1,11,1)\n",
        "one_to_ten"
      ],
      "metadata": {
        "id": "ZGY6VvciLmcm"
      },
      "execution_count": null,
      "outputs": []
    },
    {
      "cell_type": "code",
      "source": [
        "one_to_ten.shape"
      ],
      "metadata": {
        "id": "_1wnvqpbL4Pk"
      },
      "execution_count": null,
      "outputs": []
    },
    {
      "cell_type": "code",
      "source": [
        "# Creating tensors-like\n",
        "ten_zeros=torch.zeros_like(one_to_ten)\n",
        "ten_zeros"
      ],
      "metadata": {
        "id": "_ly24q-xL_PP"
      },
      "execution_count": null,
      "outputs": []
    },
    {
      "cell_type": "markdown",
      "source": [
        "## Tensor Data Types\n",
        "\n",
        "**Note** : Tensor datatypes is one of the 3 big errors you'll run into with PyTorch and Deep learning.\n",
        "\n",
        "1. Tensors not right datatype\n",
        "2. Tensors not right shape\n",
        "3. Tensors not on the right device"
      ],
      "metadata": {
        "id": "ehoU9VhnMGMd"
      }
    },
    {
      "cell_type": "code",
      "source": [
        "# Float 32 Tensor\n",
        "float_32_tensor=torch.tensor([3.0,4.6,7.0],\n",
        "                             dtype=None, # Data type of tensors for precision and computing\n",
        "                             device=None, # Whether notebook should run on CPU or GPU\n",
        "                             requires_grad=False) #  To track the gradients on the calculatiokns\n",
        "float_32_tensor"
      ],
      "metadata": {
        "id": "M8tgio36MYYL"
      },
      "execution_count": null,
      "outputs": []
    },
    {
      "cell_type": "code",
      "source": [
        "float_32_tensor.dtype"
      ],
      "metadata": {
        "id": "NZoB7KWGMk8f"
      },
      "execution_count": null,
      "outputs": []
    },
    {
      "cell_type": "code",
      "source": [
        "float_16_tensor = float_32_tensor.type(torch.float16)\n",
        "float_16_tensor"
      ],
      "metadata": {
        "id": "6N0qG1A5MmfB"
      },
      "execution_count": null,
      "outputs": []
    },
    {
      "cell_type": "code",
      "source": [
        "float_16_tensor * float_32_tensor"
      ],
      "metadata": {
        "id": "X_TWT-C0O9Ll"
      },
      "execution_count": null,
      "outputs": []
    },
    {
      "cell_type": "code",
      "source": [
        " int_32_tensor= torch.tensor([3,6,9],dtype=torch.int32)\n",
        " int_32_tensor"
      ],
      "metadata": {
        "id": "FIyACcQJPLQv"
      },
      "execution_count": null,
      "outputs": []
    },
    {
      "cell_type": "code",
      "source": [
        "float_32_tensor*int_32_tensor"
      ],
      "metadata": {
        "id": "AM6nLK-1Srhn"
      },
      "execution_count": null,
      "outputs": []
    },
    {
      "cell_type": "markdown",
      "source": [
        "## Getting information from tensors\n",
        "\n",
        "1. Tensors not right datatype - to do get datatype from a tensor use `dtype`\n",
        "2. Tensors not right shape - Use `.shape`\n",
        "3. Tensors not on the right device - Use `tensor.device`"
      ],
      "metadata": {
        "id": "7fHNm8uzSwNx"
      }
    },
    {
      "cell_type": "code",
      "source": [
        "# Create a tensor\n",
        "some_tensor = torch.rand((3,4))\n"
      ],
      "metadata": {
        "id": "5bK8L1HeTAV2"
      },
      "execution_count": null,
      "outputs": []
    },
    {
      "cell_type": "code",
      "source": [
        "# Find out the details\n",
        "print(some_tensor)\n",
        "print(f'Dataype of tensor: {some_tensor.dtype}')\n",
        "print(f'Shape of tensor:  {some_tensor.shape}')\n",
        "print(f'Device tensor is on : {some_tensor.device}')"
      ],
      "metadata": {
        "id": "Tm3LyL8lTg-J"
      },
      "execution_count": null,
      "outputs": []
    },
    {
      "cell_type": "markdown",
      "source": [
        "## Manipulating Tensor (tensor operations)\n",
        "\n",
        "tensor Operations include : Addition , Subtraction, Multiplication and division\n",
        "\n",
        "We also have Matrix Multiplication\n"
      ],
      "metadata": {
        "id": "nuielBPETwno"
      }
    },
    {
      "cell_type": "code",
      "source": [
        "# Create a tensor\n",
        "tensor = torch.tensor([1,2,3])\n",
        "tensor+10"
      ],
      "metadata": {
        "id": "siW9r3MZURVo"
      },
      "execution_count": null,
      "outputs": []
    },
    {
      "cell_type": "code",
      "source": [
        "# Multiply tensor by 10\n",
        "tensor *10"
      ],
      "metadata": {
        "id": "Jf2iT6mOUmQK"
      },
      "execution_count": null,
      "outputs": []
    },
    {
      "cell_type": "code",
      "source": [
        "tensor"
      ],
      "metadata": {
        "id": "4Dgywd3-UvfW"
      },
      "execution_count": null,
      "outputs": []
    },
    {
      "cell_type": "code",
      "source": [
        "tensor - 10"
      ],
      "metadata": {
        "id": "OLdc3_WnUwV-"
      },
      "execution_count": null,
      "outputs": []
    },
    {
      "cell_type": "code",
      "source": [
        "# Try out pytorch inbuilt functions\n",
        "torch.mul(tensor,10)"
      ],
      "metadata": {
        "id": "KvAeKPBOUxQe"
      },
      "execution_count": null,
      "outputs": []
    },
    {
      "cell_type": "code",
      "source": [
        "torch.add(tensor,12)"
      ],
      "metadata": {
        "id": "BxjxII83U4AJ"
      },
      "execution_count": null,
      "outputs": []
    },
    {
      "cell_type": "markdown",
      "source": [
        "## Matrix Multiplication\n",
        "\n",
        "Two main ways of performing multiplication in neural networks and deep leraning\n",
        "1. Element-wise multiplication\n",
        "2. Matrix Multiplication"
      ],
      "metadata": {
        "id": "zsreXTcVU8Nh"
      }
    },
    {
      "cell_type": "code",
      "source": [
        "# Element wise multiplication\n",
        "tensor"
      ],
      "metadata": {
        "id": "lJ66AG5NWLRw"
      },
      "execution_count": null,
      "outputs": []
    },
    {
      "cell_type": "code",
      "source": [
        "tensor*tensor"
      ],
      "metadata": {
        "id": "h3UbWk83We_6"
      },
      "execution_count": null,
      "outputs": []
    },
    {
      "cell_type": "code",
      "source": [
        "# Matrix multiplication\n",
        "torch.matmul(tensor,tensor)"
      ],
      "metadata": {
        "id": "DZ60eTkaWgtM"
      },
      "execution_count": null,
      "outputs": []
    },
    {
      "cell_type": "markdown",
      "source": [
        "### One of the most common errors in matrix multiplication\n",
        "**Shape of the matrices**\n",
        "\n",
        " * (3,2) @ (2,3) - Will work\n",
        " * (3,3) @ (2,2) - Will not work\n",
        "\n",
        "\n",
        " * The resulting matrxi will be of the shape **outer dimension**\n",
        "\n"
      ],
      "metadata": {
        "id": "mAnaIPgsW5uo"
      }
    },
    {
      "cell_type": "code",
      "source": [
        "torch.matmul(torch.rand((3,2)),torch.rand((2,3)))"
      ],
      "metadata": {
        "id": "epMuq-GoJAno"
      },
      "execution_count": null,
      "outputs": []
    },
    {
      "cell_type": "markdown",
      "source": [
        "### Shape errors in Matrix multiplication(Shape errors)"
      ],
      "metadata": {
        "id": "Z-g4RCjLJJTg"
      }
    },
    {
      "cell_type": "code",
      "source": [
        "# Shapes for matrix multiplication\n",
        "tensor_a = torch.tensor([[1,2],\n",
        "                         [3,4],\n",
        "                         [5,6]])\n",
        "tensor_b = torch.tensor([[7,10],\n",
        "                         [8,11],\n",
        "                         [9,12]])\n",
        "\n",
        "# torch.matmul(tensor_a,tensor_b) # torch.mm is same as torch.matmul, it is an alias\n"
      ],
      "metadata": {
        "id": "42h35KTBJyef"
      },
      "execution_count": null,
      "outputs": []
    },
    {
      "cell_type": "code",
      "source": [
        "tensor_a.shape,tensor_b.shape"
      ],
      "metadata": {
        "id": "GenZkiMdKj6_"
      },
      "execution_count": null,
      "outputs": []
    },
    {
      "cell_type": "markdown",
      "source": [
        "To fix out tensor shape issues, we can manipulate the shape of of one of our tensors using transpose"
      ],
      "metadata": {
        "id": "FdhGAsujKnrq"
      }
    },
    {
      "cell_type": "code",
      "source": [
        "tensor_b.T # It will change the shape(3,2) to shape(2,3)"
      ],
      "metadata": {
        "id": "Da7Q-9WyKzYD"
      },
      "execution_count": null,
      "outputs": []
    },
    {
      "cell_type": "code",
      "source": [
        "tensor_b"
      ],
      "metadata": {
        "id": "R1Jdgan0K2yE"
      },
      "execution_count": null,
      "outputs": []
    },
    {
      "cell_type": "code",
      "source": [
        "torch.mm(tensor_a,tensor_b.T)"
      ],
      "metadata": {
        "id": "YpzdrS2KK4cP"
      },
      "execution_count": null,
      "outputs": []
    },
    {
      "cell_type": "markdown",
      "source": [
        "## Tensor Aggregation (min,max,sum,mean,etc)"
      ],
      "metadata": {
        "id": "VbVJM_MAK7_2"
      }
    },
    {
      "cell_type": "code",
      "source": [
        "# Create a tensor\n",
        "x = torch.arange(0,100,10)\n",
        "x"
      ],
      "metadata": {
        "id": "8cu9tYC3L8xL"
      },
      "execution_count": null,
      "outputs": []
    },
    {
      "cell_type": "code",
      "source": [
        "# Find the min\n",
        "torch.min(x), x.min()"
      ],
      "metadata": {
        "id": "0eNEUubrMJIf"
      },
      "execution_count": null,
      "outputs": []
    },
    {
      "cell_type": "code",
      "source": [
        "# Find the max\n",
        "torch.max(x),x.max()"
      ],
      "metadata": {
        "id": "TKgv6qBoMN4W"
      },
      "execution_count": null,
      "outputs": []
    },
    {
      "cell_type": "code",
      "source": [
        "# Find the mean\n",
        "#torch.mean(x) # Will throw an error if the datatype is not float isicne the datatype is int\n"
      ],
      "metadata": {
        "id": "LSTQS4CrMRWJ"
      },
      "execution_count": null,
      "outputs": []
    },
    {
      "cell_type": "code",
      "source": [
        "torch.mean(x.type(torch.float32))"
      ],
      "metadata": {
        "id": "AeP-qIsBMeRO"
      },
      "execution_count": null,
      "outputs": []
    },
    {
      "cell_type": "code",
      "source": [
        "# FInd the sum\n",
        "torch.sum(x),x.sum()"
      ],
      "metadata": {
        "id": "-0JsMFzmMp9z"
      },
      "execution_count": null,
      "outputs": []
    },
    {
      "cell_type": "markdown",
      "source": [
        "## Finding the positioanl Min and Max\n"
      ],
      "metadata": {
        "id": "Fj0O6KKeMz8K"
      }
    },
    {
      "cell_type": "code",
      "source": [
        "x"
      ],
      "metadata": {
        "id": "QqQ_8fD9XhsN"
      },
      "execution_count": null,
      "outputs": []
    },
    {
      "cell_type": "code",
      "source": [
        "x[0]"
      ],
      "metadata": {
        "id": "a_kVMqkEXiWs"
      },
      "execution_count": null,
      "outputs": []
    },
    {
      "cell_type": "code",
      "source": [
        "x.argmin() # Returns the position in tensor which has the minimim value"
      ],
      "metadata": {
        "id": "sWtVHrKvXjqB"
      },
      "execution_count": null,
      "outputs": []
    },
    {
      "cell_type": "code",
      "source": [
        "x.argmax()"
      ],
      "metadata": {
        "id": "JWLgMrJHXmjv"
      },
      "execution_count": null,
      "outputs": []
    },
    {
      "cell_type": "code",
      "source": [
        "x[x.argmin()]"
      ],
      "metadata": {
        "id": "mz2y9rPMXzfz"
      },
      "execution_count": null,
      "outputs": []
    },
    {
      "cell_type": "code",
      "source": [
        "x[x.argmax()]"
      ],
      "metadata": {
        "id": "Vj_CVEDLX1ql"
      },
      "execution_count": null,
      "outputs": []
    },
    {
      "cell_type": "markdown",
      "source": [
        "## Reshaping, stacking, squeezing and Unsqueezing\n",
        "\n",
        "* Reshaping - reshapes an input tensor in to a defined shape\n",
        "* View - Return a view of an input tensor of certain shape and keep the in the same memory\n",
        "* Stack - Combine multiple tensors on top of each other (vstack) or side by side (hstack)\n",
        "* Squeeze - removes all `1` dimensions from a tensor\n",
        "* Unsqueeze - all a `1` dimension to a target tensor\n",
        "* Permute - Return a view of the input with dimensions permuted(swapped) in a certain way"
      ],
      "metadata": {
        "id": "uTrDavoaX6Yz"
      }
    },
    {
      "cell_type": "code",
      "source": [
        "# Creating a tensor\n",
        "x = torch.arange(1.,11.)\n",
        "x,x.shape"
      ],
      "metadata": {
        "id": "yxYMjhIqYVZF"
      },
      "execution_count": null,
      "outputs": []
    },
    {
      "cell_type": "code",
      "source": [
        "# Add an extra dimension\n",
        "x_reshaped = x.reshape(5,2)\n",
        "x_reshaped,x_reshaped.shape"
      ],
      "metadata": {
        "id": "wnXJovKdZMbo"
      },
      "execution_count": null,
      "outputs": []
    },
    {
      "cell_type": "code",
      "source": [
        "# Change the view\n",
        "z = x.view(2,5)\n",
        "z,z.shape"
      ],
      "metadata": {
        "id": "m6Pw9oN4ZZWr"
      },
      "execution_count": null,
      "outputs": []
    },
    {
      "cell_type": "markdown",
      "source": [
        "View shares the **same memory** with the original tensor"
      ],
      "metadata": {
        "id": "dsz0G_hYaLSv"
      }
    },
    {
      "cell_type": "code",
      "source": [
        "# Chagning z changes x (because a view share the same memory)\n",
        "z[1,0]=5\n",
        "z,x"
      ],
      "metadata": {
        "id": "oeaOpB0aaVc5"
      },
      "execution_count": null,
      "outputs": []
    },
    {
      "cell_type": "code",
      "source": [
        "# Stack tensors on top of each other\n",
        "x_stacked = torch.stack([x,x,x,x],dim=0) # dim = 0 stacks horizontally and dim = 1 stacks vertically\n",
        "x_stacked"
      ],
      "metadata": {
        "id": "0dvNxTm9agPl"
      },
      "execution_count": null,
      "outputs": []
    },
    {
      "cell_type": "code",
      "source": [
        "# torch.squeeze() - removes all single dimensions\n",
        "x_reshaped"
      ],
      "metadata": {
        "id": "LH2wj-FFavyz"
      },
      "execution_count": null,
      "outputs": []
    },
    {
      "cell_type": "code",
      "source": [
        "x_reshaped.shape\n"
      ],
      "metadata": {
        "id": "f_sYn3CafUvV"
      },
      "execution_count": null,
      "outputs": []
    },
    {
      "cell_type": "code",
      "source": [
        "x_reshaped = torch.arange(1.,11.).reshape(1,10)\n",
        "x_reshaped"
      ],
      "metadata": {
        "id": "Ll7_XUEzfWJe"
      },
      "execution_count": null,
      "outputs": []
    },
    {
      "cell_type": "code",
      "source": [
        "x_reshaped.shape"
      ],
      "metadata": {
        "id": "jqPxCGJsfdKY"
      },
      "execution_count": null,
      "outputs": []
    },
    {
      "cell_type": "code",
      "source": [
        "x_reshaped.squeeze().shape"
      ],
      "metadata": {
        "id": "wlKGbiJ2gA2R"
      },
      "execution_count": null,
      "outputs": []
    },
    {
      "cell_type": "code",
      "source": [
        "x_reshaped.squeeze()"
      ],
      "metadata": {
        "id": "5T6q3fdigHrT"
      },
      "execution_count": null,
      "outputs": []
    },
    {
      "cell_type": "code",
      "source": [
        "# torch.unsqueeze() - Adds a single dimension to a target tesnor at a specific dim(dimension)\n",
        "x_squeezed = x_reshaped.squeeze()\n",
        "print(f'Squeezed tensor: ', x_squeezed)\n",
        "print(f'Shape of squeezed tensor ', x_squeezed.shape)\n",
        "\n",
        "# Add an extra dimension with unsqueeze\n",
        "x_unsqueezed = x_squeezed.unsqueeze(dim=0)\n",
        "print(f'Unsqueezed tensor ',x_unsqueezed)\n",
        "print(f'Unsqueezd tensor shape ',x_unsqueezed.shape)"
      ],
      "metadata": {
        "id": "9oSga9lbgKm1"
      },
      "execution_count": null,
      "outputs": []
    },
    {
      "cell_type": "code",
      "source": [
        "# torch.permute() - rearranges the dimensiokn of a target tensor in a specified order\n",
        "x_original = torch.rand(size=(224,224,3)) # Height, width, and collor_channel\n",
        "\n",
        "# Permute the original tensor to rearrange the axis\n",
        "x_permutted = x_original.permute(2,0,1) # shifts axis\n",
        "print(f'Previous shape, {x_original.shape}')\n",
        "print(f'New shape {x_permutted.shape}')"
      ],
      "metadata": {
        "id": "ac03FHpkhFoT"
      },
      "execution_count": null,
      "outputs": []
    },
    {
      "cell_type": "markdown",
      "source": [
        "## Pytorch and NumPy\n",
        "\n",
        "PyTorch has some functionality to interact with NumPy\n",
        "\n",
        "* Data in NumPy, want in PyTorch Tensor ---> `torch.from_numpy(ndarray)`\n",
        "* PyTorch ---> NumPy---> `torch.Tensor.numpy()`"
      ],
      "metadata": {
        "id": "w3gTfD3ciC9P"
      }
    },
    {
      "cell_type": "code",
      "source": [
        "# NumPy array to tensor\n",
        "import torch\n",
        "import numpy as np\n",
        "\n",
        "array = np.arange(1.0,8.0)\n",
        "tensor = torch.from_numpy(array)\n",
        "tensor, array"
      ],
      "metadata": {
        "id": "3v5SWI4wvhU9"
      },
      "execution_count": null,
      "outputs": []
    },
    {
      "cell_type": "markdown",
      "source": [
        "If you are going numpy to PyTorch we will have the dtype torch.float64 for tensor"
      ],
      "metadata": {
        "id": "toXdoycEwMD6"
      }
    },
    {
      "cell_type": "markdown",
      "source": [
        "We can change it from torch.float64 to torch.float32\n"
      ],
      "metadata": {
        "id": "ViIL2RdcwdEt"
      }
    },
    {
      "cell_type": "code",
      "source": [
        "tensor = torch.from_numpy(array).type(torch.float32)\n",
        "tensor,tensor.dtype"
      ],
      "metadata": {
        "id": "XMt5VjxLwppB"
      },
      "execution_count": null,
      "outputs": []
    },
    {
      "cell_type": "code",
      "source": [
        "# Change the value of array, what will happen to tensor\n",
        "array = array+1\n",
        "tensor, array"
      ],
      "metadata": {
        "id": "IPUJUJ3wwvru"
      },
      "execution_count": null,
      "outputs": []
    },
    {
      "cell_type": "code",
      "source": [
        "# Tensor to Numpy\n",
        "tensor = torch.ones(7)\n",
        "array = tensor.numpy()\n",
        "array, tensor,array.dtype"
      ],
      "metadata": {
        "id": "7g4txjl0xHex"
      },
      "execution_count": null,
      "outputs": []
    },
    {
      "cell_type": "markdown",
      "source": [
        "## Reproducability ( trying to take the random out of random)\n",
        "\n",
        "I short how a neural network learns\n",
        "` start with random numbers -> tensor operations -> update random numbers to try and make them better understand the data -> again -> again -> again .....`\n",
        "\n",
        "To reduce the randomness in neural networks and PyTorch comes the concept of a **random seed**\n",
        "\n",
        "Essentially what the random seed does is *flavour* the randomness"
      ],
      "metadata": {
        "id": "-GytDgj_xa2s"
      }
    },
    {
      "cell_type": "code",
      "source": [
        "import torch\n",
        "# Create two random tensors\n",
        "\n",
        "random_tensor_a = torch.rand(3,4)\n",
        "random_tensor_b = torch.rand(3,4)\n",
        "\n",
        "\n",
        "print(random_tensor_a)\n",
        "print(random_tensor_b)\n",
        "print(random_tensor_a == random_tensor_b)"
      ],
      "metadata": {
        "id": "4pSSpsmOzJz5"
      },
      "execution_count": null,
      "outputs": []
    },
    {
      "cell_type": "code",
      "source": [
        "# Let's make random but reproducable tensors\n",
        "\n",
        "import torch\n",
        "\n",
        "#Set the manual seed\n",
        "RANDOM_SEED = 42\n",
        "torch.manual_seed(RANDOM_SEED)\n",
        "\n",
        "random_tensor_c = torch.rand(3,4)\n",
        "torch.manual_seed(RANDOM_SEED)\n",
        "random_tensor_d = torch.rand(3,4)\n",
        "\n",
        "print(random_tensor_c)\n",
        "print(random_tensor_d)\n",
        "print(random_tensor_c==random_tensor_d)"
      ],
      "metadata": {
        "id": "TgGDxVMCzL70"
      },
      "execution_count": null,
      "outputs": []
    },
    {
      "cell_type": "markdown",
      "source": [
        "## Running tensor and PyTorch Objects on GPU's (making faser computation)\n",
        "\n",
        "GPUS = faster computation on numbers, thanks to CUDA + NVIDIA hardware + PyTorch working behind the scenes to make everything good"
      ],
      "metadata": {
        "id": "YnVqkF8I0qO2"
      }
    },
    {
      "cell_type": "markdown",
      "source": [
        "###Getting a GPU\n",
        "\n",
        "1. Easiest - Use Google colab fora free GPU\n",
        "2. Use your own GPU which requires investment\n",
        "3. Use cloud computing"
      ],
      "metadata": {
        "id": "CmyqItg_1PuI"
      }
    },
    {
      "cell_type": "code",
      "source": [],
      "metadata": {
        "id": "1flHfNJu18gg"
      },
      "execution_count": null,
      "outputs": []
    }
  ]
}