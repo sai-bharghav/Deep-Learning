{
  "nbformat": 4,
  "nbformat_minor": 0,
  "metadata": {
    "colab": {
      "provenance": [],
      "authorship_tag": "ABX9TyOK4LgFA7A/+0GOD5zNiyri",
      "include_colab_link": true
    },
    "kernelspec": {
      "name": "python3",
      "display_name": "Python 3"
    },
    "language_info": {
      "name": "python"
    }
  },
  "cells": [
    {
      "cell_type": "markdown",
      "metadata": {
        "id": "view-in-github",
        "colab_type": "text"
      },
      "source": [
        "<a href=\"https://colab.research.google.com/github/sai-bharghav/Deep-Learning/blob/main/01_PyTorch_Workflow.ipynb\" target=\"_parent\"><img src=\"https://colab.research.google.com/assets/colab-badge.svg\" alt=\"Open In Colab\"/></a>"
      ]
    },
    {
      "cell_type": "markdown",
      "source": [
        "# PyTorch Workflow\n",
        "\n",
        "Let's explore an example of PyTorch end-toend workflow"
      ],
      "metadata": {
        "id": "vSAvwPAJDIHi"
      }
    },
    {
      "cell_type": "code",
      "source": [
        "what_were_covering ={1:\"data (prepare and loading)\",\n",
        "                     2:\"building the model\",\n",
        "                     3:'fitting the model to data',\n",
        "                     4:'making predictions and evaluating a model(inference)',\n",
        "                     5:'saving and loading a model',\n",
        "                     6:'putting it all together'}"
      ],
      "metadata": {
        "id": "rd1rSHtKDZEE"
      },
      "execution_count": 1,
      "outputs": []
    },
    {
      "cell_type": "code",
      "source": [
        "import torch\n",
        "from torch import nn #nn contains all of PyTorch's building blocks for neural networks\n",
        "import matplotlib.pyplot as plt\n",
        "\n",
        "# Check pytorch version\n",
        "torch.__version__"
      ],
      "metadata": {
        "colab": {
          "base_uri": "https://localhost:8080/",
          "height": 36
        },
        "id": "TelNRlL5DqXm",
        "outputId": "2e2420e5-a19f-4256-bc27-66fcc143c324"
      },
      "execution_count": 2,
      "outputs": [
        {
          "output_type": "execute_result",
          "data": {
            "text/plain": [
              "'2.2.1+cu121'"
            ],
            "application/vnd.google.colaboratory.intrinsic+json": {
              "type": "string"
            }
          },
          "metadata": {},
          "execution_count": 2
        }
      ]
    },
    {
      "cell_type": "markdown",
      "source": [
        "![Image](https://raw.githubusercontent.com/mrdbourke/pytorch-deep-learning/main/images/01_a_pytorch_workflow.png)"
      ],
      "metadata": {
        "id": "xwhzD5eQp01q"
      }
    },
    {
      "cell_type": "markdown",
      "source": [
        "## 1. Data (preparing and loading)\n",
        "\n",
        "Data can ba almost anything.. in machine learning\n",
        "\n",
        "* Excel Spreadsheets\n",
        "* Images of any kind\n",
        "* Videos\n",
        "* Audio like songs\n",
        "* DNA\n",
        "* Text\n",
        "\n",
        "Macine learning is a game of two parts\n",
        "1. Get data into numerical representation\n",
        "2. Build a model to learn patterns in that numerical representation\n",
        "\n",
        "\n",
        "To showcase this, let's create some *known* data using the linear regression formula\n",
        "\n",
        "We'll use a linear regression formula to make a straight line with known **parameters**"
      ],
      "metadata": {
        "id": "vFIC32wiEeev"
      }
    },
    {
      "cell_type": "code",
      "source": [
        "# Create known parameteres\n",
        "weight =0.7\n",
        "bias =0.3\n",
        "\n",
        "# Create some data\n",
        "start = 0\n",
        "end =1\n",
        "step =0.02\n",
        "X = torch.arange(start,end,step).unsqueeze(dim=1)# to get the shape [50,1]\n",
        "y = weight*X + bias\n",
        "X[:10],y[:10]"
      ],
      "metadata": {
        "colab": {
          "base_uri": "https://localhost:8080/"
        },
        "id": "D6wW1B-tEhca",
        "outputId": "97e3c2ff-25ab-4e18-9543-09d8c8ab85be"
      },
      "execution_count": 3,
      "outputs": [
        {
          "output_type": "execute_result",
          "data": {
            "text/plain": [
              "(tensor([[0.0000],\n",
              "         [0.0200],\n",
              "         [0.0400],\n",
              "         [0.0600],\n",
              "         [0.0800],\n",
              "         [0.1000],\n",
              "         [0.1200],\n",
              "         [0.1400],\n",
              "         [0.1600],\n",
              "         [0.1800]]),\n",
              " tensor([[0.3000],\n",
              "         [0.3140],\n",
              "         [0.3280],\n",
              "         [0.3420],\n",
              "         [0.3560],\n",
              "         [0.3700],\n",
              "         [0.3840],\n",
              "         [0.3980],\n",
              "         [0.4120],\n",
              "         [0.4260]]))"
            ]
          },
          "metadata": {},
          "execution_count": 3
        }
      ]
    },
    {
      "cell_type": "code",
      "source": [
        "len(X),len(y),X.shape"
      ],
      "metadata": {
        "colab": {
          "base_uri": "https://localhost:8080/"
        },
        "id": "uHOlPBTnLvrq",
        "outputId": "d67b7a5c-7b82-4c39-c92f-6e20c8928cef"
      },
      "execution_count": 4,
      "outputs": [
        {
          "output_type": "execute_result",
          "data": {
            "text/plain": [
              "(50, 50, torch.Size([50, 1]))"
            ]
          },
          "metadata": {},
          "execution_count": 4
        }
      ]
    },
    {
      "cell_type": "markdown",
      "source": [
        "### Splitting data into training and test datasets\n",
        "\n",
        "Let's create a training and test dataset with out data"
      ],
      "metadata": {
        "id": "R68sbWDQL-zW"
      }
    },
    {
      "cell_type": "code",
      "source": [
        "# Create a train/test split\n",
        "\n",
        "train_split = int(0.8*len(X))\n",
        "X_train, y_train =X[:train_split],y[:train_split]\n",
        "X_test,y_test = X[train_split:],y[train_split:]\n",
        "\n",
        "len(X_train),len(X_test),len(y_train),len(y_test)"
      ],
      "metadata": {
        "colab": {
          "base_uri": "https://localhost:8080/"
        },
        "id": "FBzzsF7nNJmj",
        "outputId": "f6e1ee9b-e436-43eb-d427-5aaf7cb04838"
      },
      "execution_count": 5,
      "outputs": [
        {
          "output_type": "execute_result",
          "data": {
            "text/plain": [
              "(40, 10, 40, 10)"
            ]
          },
          "metadata": {},
          "execution_count": 5
        }
      ]
    },
    {
      "cell_type": "markdown",
      "source": [
        "How might we better visualize our data?\n",
        "\n",
        "This is where the data explorer's motto comes in\n",
        "\"Visualize, Visualize,Visualize\"\n"
      ],
      "metadata": {
        "id": "YcqVDDPdNU5D"
      }
    },
    {
      "cell_type": "code",
      "source": [
        "def plot_prediction(train_data = X_train,\n",
        "                    train_labels = y_train,\n",
        "                    test_data=X_test,\n",
        "                    test_labels=y_test,\n",
        "                    predictions=None):\n",
        "  \"\"\"\n",
        "  Plots, training data, test data and compares predictions.\n",
        "  \"\"\"\n",
        "  plt.figure(figsize=(10,7))\n",
        "  # Plot training data in blue\n",
        "\n",
        "  plt.scatter(train_data,train_labels,c='b',s=4,label='Training data')\n",
        "\n",
        "  # Plt test in green\n",
        "  plt.scatter(test_data, test_labels, c='g',s=4,label='Testing data')\n",
        "\n",
        "  # Are there predictions?\n",
        "  if predictions is not None:\n",
        "    # Plt the predictions if they exist\n",
        "    plt.scatter(test_data,predictions,c='r',s=4,label='Predictions')\n",
        "\n",
        "  plt.legend(prop={'size':14})"
      ],
      "metadata": {
        "id": "c8iVTGqLON7D"
      },
      "execution_count": 6,
      "outputs": []
    },
    {
      "cell_type": "code",
      "source": [
        "plot_prediction()"
      ],
      "metadata": {
        "colab": {
          "base_uri": "https://localhost:8080/",
          "height": 599
        },
        "id": "tqCwb1f-OdXl",
        "outputId": "7ed68bf7-21de-4351-efc5-6fcd957064e2"
      },
      "execution_count": 7,
      "outputs": [
        {
          "output_type": "display_data",
          "data": {
            "text/plain": [
              "<Figure size 1000x700 with 1 Axes>"
            ],
            "image/png": "[encoded data removed]"
          },
          "metadata": {}
        }
      ]
    },
    {
      "cell_type": "markdown",
      "source": [
        "## Build model\n",
        "\n",
        "Our First PyTorch model\n",
        "\n",
        "we are going to use classes and OOPS so here is the link for OOPS in Python\n",
        "https://realpython.com/python3-object-oriented-programming/\n",
        "\n",
        "What our model does\n",
        "* Start with random values (weights&bias)\n",
        "* Look at training data and adjust the random values to better represent the data(ideal values)\n",
        "\n",
        "\n",
        "Hwo does it do so?\n",
        "Through two main algorithms:\n",
        "1. Gradient descent\n",
        "2. Back propogation"
      ],
      "metadata": {
        "id": "hyEhMM2hQUee"
      }
    },
    {
      "cell_type": "code",
      "source": [
        "# Create linear regression model class\n",
        "class LinearRegressionModel(nn.Module): #<- almost everything in PyTorch inherits from nn.Module ( base class for all neural network modules)\n",
        "  def __init__(self):\n",
        "    super().__init__()\n",
        "    self.weights=nn.Parameter(torch.randn(1,\n",
        "                                          requires_grad=True,\n",
        "                                          dtype=torch.float))\n",
        "    self.bias = nn.Parameter(torch.randn(1,\n",
        "                                          requires_grad=True,\n",
        "                                          dtype=torch.float))\n",
        "\n",
        "  # Forward method to define the computation in themodel\n",
        "  def forward(self,x:torch.Tensor) -> torch.Tensor:#<- \"x\" is the input data\n",
        "    return self.weights*x+self.bias # this is the linear regression formula"
      ],
      "metadata": {
        "id": "AkuThwquQgM-"
      },
      "execution_count": 8,
      "outputs": []
    },
    {
      "cell_type": "markdown",
      "source": [
        "### PyTorch model building essentials\n",
        "\n",
        "* `torch.nn` - contains of the buildings for computational graphs (another word neural networks)\n",
        "* `torch.nn.Parameter` - what parameter should our model try and learn, often a PyTorch layer from torch.nn will set these for us\n",
        "* `torch.nn.Module` - The base for all neural network modules, if you sub class it you should override the forward() method\n",
        "* `torch.optim` - this where the optimizers in PyTorch live, they will help with gradient descent\n",
        "* `def forward()` - All nn.Module subclasses require you to override this method. *This method defines what happens in the forward computation*"
      ],
      "metadata": {
        "id": "N7tLgn3mZF5S"
      }
    },
    {
      "cell_type": "markdown",
      "source": [
        "For getting the data ready we make use of the following modules\n",
        "* `torchvision.transformas`\n",
        "* `torch.utils.data.Dataset`\n",
        "* `torch.utils.data.DataLoader`\n",
        "\n",
        "For building a model\n",
        "* `torch.nn`\n",
        "* `toch.nn.Module`\n",
        "* `torchvision.models`\n",
        "\n",
        "For optimizer\n",
        "* `torch.optim`\n",
        "\n",
        "Evaluate the model\n",
        "* `torchmetrics`\n",
        "\n",
        "Improve the model through experimentaion\n",
        "* `torch.utils.tensorboard`"
      ],
      "metadata": {
        "id": "hit7i3_JmGDW"
      }
    },
    {
      "cell_type": "markdown",
      "source": [
        "### Checking the contents of our pytorch model\n",
        "\n",
        "Now we've created our model we see what it does\n",
        "\n",
        "We can check our model Parameters or what is inside using `.paramters()`\n"
      ],
      "metadata": {
        "id": "f6vMUmF-nNYL"
      }
    },
    {
      "cell_type": "code",
      "source": [
        "# Create a random seed\n",
        "torch.manual_seed(42)\n",
        "\n",
        "# Createa an instance of the model (this is a subclass of nn.Module)\n",
        "model_0=LinearRegressionModel()\n",
        "\n",
        "model_0"
      ],
      "metadata": {
        "colab": {
          "base_uri": "https://localhost:8080/"
        },
        "id": "vrd6SP_in2Gb",
        "outputId": "3df7cf39-579e-4bdb-ef92-3d5b14515a22"
      },
      "execution_count": 9,
      "outputs": [
        {
          "output_type": "execute_result",
          "data": {
            "text/plain": [
              "LinearRegressionModel()"
            ]
          },
          "metadata": {},
          "execution_count": 9
        }
      ]
    },
    {
      "cell_type": "code",
      "source": [
        "# Check out the parameters\n",
        "list(model_0.parameters())"
      ],
      "metadata": {
        "colab": {
          "base_uri": "https://localhost:8080/"
        },
        "id": "pmYfFIM-oTTz",
        "outputId": "bac0821e-8b91-4167-9bbb-684077f63fa2"
      },
      "execution_count": 10,
      "outputs": [
        {
          "output_type": "execute_result",
          "data": {
            "text/plain": [
              "[Parameter containing:\n",
              " tensor([0.3367], requires_grad=True),\n",
              " Parameter containing:\n",
              " tensor([0.1288], requires_grad=True)]"
            ]
          },
          "metadata": {},
          "execution_count": 10
        }
      ]
    },
    {
      "cell_type": "code",
      "source": [
        "# List the named parameters\n",
        "model_0.state_dict() # we get the variables defined in the class"
      ],
      "metadata": {
        "colab": {
          "base_uri": "https://localhost:8080/"
        },
        "id": "ePbMzS3KooXt",
        "outputId": "60d81b39-a787-43ba-9f74-8504ada66bff"
      },
      "execution_count": 11,
      "outputs": [
        {
          "output_type": "execute_result",
          "data": {
            "text/plain": [
              "OrderedDict([('weights', tensor([0.3367])), ('bias', tensor([0.1288]))])"
            ]
          },
          "metadata": {},
          "execution_count": 11
        }
      ]
    },
    {
      "cell_type": "markdown",
      "source": [
        "###Making predictions using `torch.inference_mode()`\n",
        "\n",
        "To check our model's predictive power, let's see how well it predicts `y_test` based on `X_test`.\n",
        "\n",
        "When we pass data through our model, it is going to run the `forward()` method"
      ],
      "metadata": {
        "id": "hHt9qD0spJzF"
      }
    },
    {
      "cell_type": "code",
      "source": [
        "# Make predicitions with model\n",
        "with torch.inference_mode():\n",
        "  y_preds=model_0(X_test)\n",
        "y_preds\n",
        "\n",
        "# You can also do something similar\n",
        "with torch.no_grad():\n",
        "  y_preds = model_0(X_test)\n",
        "y_preds\n",
        "y_initial_preds = y_preds"
      ],
      "metadata": {
        "id": "k_ESaUP6qv3N"
      },
      "execution_count": 12,
      "outputs": []
    },
    {
      "cell_type": "code",
      "source": [
        "y_test"
      ],
      "metadata": {
        "colab": {
          "base_uri": "https://localhost:8080/"
        },
        "id": "oqj5Ca2LrDhS",
        "outputId": "0ccc21f6-7b7f-4f92-ce00-59b85d06b602"
      },
      "execution_count": 13,
      "outputs": [
        {
          "output_type": "execute_result",
          "data": {
            "text/plain": [
              "tensor([[0.8600],\n",
              "        [0.8740],\n",
              "        [0.8880],\n",
              "        [0.9020],\n",
              "        [0.9160],\n",
              "        [0.9300],\n",
              "        [0.9440],\n",
              "        [0.9580],\n",
              "        [0.9720],\n",
              "        [0.9860]])"
            ]
          },
          "metadata": {},
          "execution_count": 13
        }
      ]
    },
    {
      "cell_type": "code",
      "source": [
        "plot_prediction(predictions = y_preds)"
      ],
      "metadata": {
        "colab": {
          "base_uri": "https://localhost:8080/",
          "height": 599
        },
        "id": "61_bpegert0K",
        "outputId": "e4412af8-7c5a-4d2d-f6cf-aa19ba96963e"
      },
      "execution_count": 14,
      "outputs": [
        {
          "output_type": "display_data",
          "data": {
            "text/plain": [
              "<Figure size 1000x700 with 1 Axes>"
            ],
            "image/png": "[encoded data removed]"
          },
          "metadata": {}
        }
      ]
    },
    {
      "cell_type": "markdown",
      "source": [
        "Our model did bad on predcitions on the first time we can also do\n",
        "`y_preds = model_0(X_test)` aand then see the `y_preds`. Let us ee what the difference is\n",
        "\n",
        "\n"
      ],
      "metadata": {
        "id": "ddoo96bVsJkr"
      }
    },
    {
      "cell_type": "code",
      "source": [
        "y_preds = model_0(X_test)\n",
        "y_preds"
      ],
      "metadata": {
        "colab": {
          "base_uri": "https://localhost:8080/"
        },
        "id": "2pPCAhW1s-A2",
        "outputId": "592890d5-d4bf-425d-9f64-6478126e1781"
      },
      "execution_count": 15,
      "outputs": [
        {
          "output_type": "execute_result",
          "data": {
            "text/plain": [
              "tensor([[0.3982],\n",
              "        [0.4049],\n",
              "        [0.4116],\n",
              "        [0.4184],\n",
              "        [0.4251],\n",
              "        [0.4318],\n",
              "        [0.4386],\n",
              "        [0.4453],\n",
              "        [0.4520],\n",
              "        [0.4588]], grad_fn=<AddBackward0>)"
            ]
          },
          "metadata": {},
          "execution_count": 15
        }
      ]
    },
    {
      "cell_type": "markdown",
      "source": [
        "Both are similar but what is the difference is that we have a `grad_fn = <AddBackward0>`\n",
        "- The `inference_mode()` will turn off the backward propogation so pytorch will keep track off less data\n",
        "\n",
        "See more on inference mode here - https://x.com/PyTorch/status/1437838231505096708?s=20"
      ],
      "metadata": {
        "id": "SP6f7YMQtBPe"
      }
    },
    {
      "cell_type": "markdown",
      "source": [
        "### 3. Train Model\n",
        "\n",
        "The whole idea training for a model to move from some unknown parameters to some known parameters\n",
        "\n",
        "Or in simple terms, From a porr representation of data to a better representation of the data\n",
        "\n",
        "\n",
        "One way to measure how poor or how wrong you model performs we have to use a loss function\n",
        "\n",
        "\n",
        "* NOTE : Loss function may also be called cost function or criterion in different areas\n",
        "\n",
        "Things we need to train :\n",
        "\n",
        "* **Loss function** A function to measure how wrong your model's predictions are to the ideal outputs\n",
        "* **Optimizer** takes into account the loss of a model's parameters (eg: weights & bias) to improve the loss function\n",
        "    - Inside the optimizer you'll often have to set tow parameters:\n",
        "    * `params` - the model parameters you'd like to optimize, for example `params=model_0.parameters()`\n",
        "    * `lr`(learning rate) - the learning rate is a hyperparameter that defines how big/small the optimizer changes the parameters with each step (a small `lr` results in small changes, a large `lr` results in large changes\n",
        "\n",
        "And specifically for PyTorch we need a\n",
        "* training loop\n",
        "* testing loop"
      ],
      "metadata": {
        "id": "nisdcv0atJys"
      }
    },
    {
      "cell_type": "code",
      "source": [
        "list(model_0.parameters())"
      ],
      "metadata": {
        "colab": {
          "base_uri": "https://localhost:8080/"
        },
        "id": "DSqq6Z_Pajag",
        "outputId": "5b33909c-9071-43c0-f7dd-4fd55292e487"
      },
      "execution_count": 16,
      "outputs": [
        {
          "output_type": "execute_result",
          "data": {
            "text/plain": [
              "[Parameter containing:\n",
              " tensor([0.3367], requires_grad=True),\n",
              " Parameter containing:\n",
              " tensor([0.1288], requires_grad=True)]"
            ]
          },
          "metadata": {},
          "execution_count": 16
        }
      ]
    },
    {
      "cell_type": "code",
      "source": [
        "# Chekc out or model paratmers (a parameter is a value that the model sets itself)\n",
        "model_0.state_dict()"
      ],
      "metadata": {
        "colab": {
          "base_uri": "https://localhost:8080/"
        },
        "id": "euASvuMNbgqf",
        "outputId": "05d209e2-cac3-415b-ffb2-0f04e07b7e79"
      },
      "execution_count": 17,
      "outputs": [
        {
          "output_type": "execute_result",
          "data": {
            "text/plain": [
              "OrderedDict([('weights', tensor([0.3367])), ('bias', tensor([0.1288]))])"
            ]
          },
          "metadata": {},
          "execution_count": 17
        }
      ]
    },
    {
      "cell_type": "code",
      "source": [
        "# Setup a Loss function\n",
        "loss_fn = nn.L1Loss()\n",
        "\n",
        "# Setup an Optimizer(stochastic gradient descent)\n",
        "optimizer = torch.optim.SGD(params = model_0.parameters(),\n",
        "                            lr=0.01)# lr = Learning rate - possibly the most important hyperparameter"
      ],
      "metadata": {
        "id": "eQI4bDQubi4N"
      },
      "execution_count": 18,
      "outputs": []
    },
    {
      "cell_type": "markdown",
      "source": [
        "**Q** Which loss function and optimizer should I use?\n",
        "\n",
        "**A** This will be problem specific, but with experience we will get an idea of what works and what doesn't with your particular problem set.\n",
        "\n",
        "For example, for a regression problem (like ours), a loss function of `nn.L1Loss()` and an optimizer like `torch.optim.SGD()` will suffice,\n",
        "\n",
        "But for a classfication problem like classifying whether a photo is of a dog or a cat, you'll likely want to use a loss function `nn.BCELoss()` ( Binary cross entropy loss)"
      ],
      "metadata": {
        "id": "HkwkkvUSe_jv"
      }
    },
    {
      "cell_type": "markdown",
      "source": [
        "## Buidling a training loop in PyTorch( training and testing loop)\n",
        "\n",
        "A couple of thinigs we need in a training loop:\n",
        "0. Loop through the data\n",
        "1. Forward pass (this involves data moving thorugh our model's `forward` to make predictions on data\n",
        "2. Calculate the loss (compare forward pass predictions to ground truth labels)\n",
        "3. Optimizer zero grad\n",
        "4. Loss backward  - move backwards through the netowrk to calculate the gradients of each of the parameters of our model with respect to the loss (**backpropagation**)\n",
        "5. Optimizer step - use the optimizer to adjust our model's parameters to try and improve the loss (**gradient descent**)\n"
      ],
      "metadata": {
        "id": "XJ78SvUgfyZw"
      }
    },
    {
      "cell_type": "code",
      "source": [
        "torch.manual_seed(42)\n",
        "# An epcoh is one loop through the data.. (this is a hyperparameter because we've set it )\n",
        "epochs = 1000\n",
        "\n",
        "# Track the parameters\n",
        "epoch_count = []\n",
        "loss_values = []\n",
        "test_loss_values =[]\n",
        "\n",
        "### Training\n",
        "# 0. Loop through the data\n",
        "for epoch in range(epochs):\n",
        "  # Set the model to training mode (Pytorch has different modes and one of them is training mode)\n",
        "  model_0.train() # train mode in pytorch sets all parameters that require gradients to require gradients\n",
        "\n",
        "  #Forward pass\n",
        "  y_pred = model_0(X_train)\n",
        "\n",
        "  # 2. Calculate the loss\n",
        "  loss=loss_fn(y_pred,y_train)\n",
        "\n",
        "  # 3.Optimizer zero grad\n",
        "  optimizer.zero_grad()\n",
        "\n",
        "  # 4. Perform backpropagation on the loss with respect to the parameters of the model\n",
        "  loss.backward()\n",
        "\n",
        "  # 5.Step the optimizer(perform gradient descent)\n",
        "  optimizer.step() # by default how the optimizer changes will accumulate throught the loop so.. we have to zero them above in step 3\n",
        "\n",
        "  # Testing\n",
        "  model_0.eval() # turns off settings which are not needed for evaluation\n",
        "  with torch.inference_mode(): # turns off gradient tracking and couple of more things behind the scenes\n",
        "    # 1. Do the forward pass\n",
        "    test_pred = model_0(X_test)\n",
        "\n",
        "    # 2. Calculate the loss\n",
        "    test_loss = loss_fn(test_pred,y_test)\n",
        "\n",
        "  if epoch %10 ==0 :\n",
        "    epoch_count.append(epoch)\n",
        "    loss_values.append(loss)\n",
        "    test_loss_values.append(test_loss)\n",
        "    print(f\"Epoch: {epoch} | Test: {loss} | Test loss: {test_loss}\")\n",
        "\n",
        "  # Print out the model_0.state_dict()\n",
        "  #print(model_0.state_dict())"
      ],
      "metadata": {
        "id": "zjkDjw3Y2acb",
        "colab": {
          "base_uri": "https://localhost:8080/"
        },
        "outputId": "450767e3-580e-4659-f48a-2fa0bc9ecf2a"
      },
      "execution_count": 19,
      "outputs": [
        {
          "output_type": "stream",
          "name": "stdout",
          "text": [
            "Epoch: 0 | Test: 0.31288138031959534 | Test loss: 0.48106518387794495\n",
            "Epoch: 10 | Test: 0.1976713240146637 | Test loss: 0.3463551998138428\n",
            "Epoch: 20 | Test: 0.08908725529909134 | Test loss: 0.21729660034179688\n",
            "Epoch: 30 | Test: 0.053148526698350906 | Test loss: 0.14464017748832703\n",
            "Epoch: 40 | Test: 0.04543796554207802 | Test loss: 0.11360953003168106\n",
            "Epoch: 50 | Test: 0.04167863354086876 | Test loss: 0.09919948130846024\n",
            "Epoch: 60 | Test: 0.03818932920694351 | Test loss: 0.08886633068323135\n",
            "Epoch: 70 | Test: 0.03476089984178543 | Test loss: 0.0805937647819519\n",
            "Epoch: 80 | Test: 0.03132382780313492 | Test loss: 0.07232122868299484\n",
            "Epoch: 90 | Test: 0.02788739837706089 | Test loss: 0.06473556160926819\n",
            "Epoch: 100 | Test: 0.024458957836031914 | Test loss: 0.05646304413676262\n",
            "Epoch: 110 | Test: 0.021020207554101944 | Test loss: 0.04819049686193466\n",
            "Epoch: 120 | Test: 0.01758546568453312 | Test loss: 0.04060482233762741\n",
            "Epoch: 130 | Test: 0.014155393466353416 | Test loss: 0.03233227878808975\n",
            "Epoch: 140 | Test: 0.010716589167714119 | Test loss: 0.024059748277068138\n",
            "Epoch: 150 | Test: 0.0072835334576666355 | Test loss: 0.016474086791276932\n",
            "Epoch: 160 | Test: 0.0038517764769494534 | Test loss: 0.008201557211577892\n",
            "Epoch: 170 | Test: 0.008932482451200485 | Test loss: 0.005023092031478882\n",
            "Epoch: 180 | Test: 0.008932482451200485 | Test loss: 0.005023092031478882\n",
            "Epoch: 190 | Test: 0.008932482451200485 | Test loss: 0.005023092031478882\n",
            "Epoch: 200 | Test: 0.008932482451200485 | Test loss: 0.005023092031478882\n",
            "Epoch: 210 | Test: 0.008932482451200485 | Test loss: 0.005023092031478882\n",
            "Epoch: 220 | Test: 0.008932482451200485 | Test loss: 0.005023092031478882\n",
            "Epoch: 230 | Test: 0.008932482451200485 | Test loss: 0.005023092031478882\n",
            "Epoch: 240 | Test: 0.008932482451200485 | Test loss: 0.005023092031478882\n",
            "Epoch: 250 | Test: 0.008932482451200485 | Test loss: 0.005023092031478882\n",
            "Epoch: 260 | Test: 0.008932482451200485 | Test loss: 0.005023092031478882\n",
            "Epoch: 270 | Test: 0.008932482451200485 | Test loss: 0.005023092031478882\n",
            "Epoch: 280 | Test: 0.008932482451200485 | Test loss: 0.005023092031478882\n",
            "Epoch: 290 | Test: 0.008932482451200485 | Test loss: 0.005023092031478882\n",
            "Epoch: 300 | Test: 0.008932482451200485 | Test loss: 0.005023092031478882\n",
            "Epoch: 310 | Test: 0.008932482451200485 | Test loss: 0.005023092031478882\n",
            "Epoch: 320 | Test: 0.008932482451200485 | Test loss: 0.005023092031478882\n",
            "Epoch: 330 | Test: 0.008932482451200485 | Test loss: 0.005023092031478882\n",
            "Epoch: 340 | Test: 0.008932482451200485 | Test loss: 0.005023092031478882\n",
            "Epoch: 350 | Test: 0.008932482451200485 | Test loss: 0.005023092031478882\n",
            "Epoch: 360 | Test: 0.008932482451200485 | Test loss: 0.005023092031478882\n",
            "Epoch: 370 | Test: 0.008932482451200485 | Test loss: 0.005023092031478882\n",
            "Epoch: 380 | Test: 0.008932482451200485 | Test loss: 0.005023092031478882\n",
            "Epoch: 390 | Test: 0.008932482451200485 | Test loss: 0.005023092031478882\n",
            "Epoch: 400 | Test: 0.008932482451200485 | Test loss: 0.005023092031478882\n",
            "Epoch: 410 | Test: 0.008932482451200485 | Test loss: 0.005023092031478882\n",
            "Epoch: 420 | Test: 0.008932482451200485 | Test loss: 0.005023092031478882\n",
            "Epoch: 430 | Test: 0.008932482451200485 | Test loss: 0.005023092031478882\n",
            "Epoch: 440 | Test: 0.008932482451200485 | Test loss: 0.005023092031478882\n",
            "Epoch: 450 | Test: 0.008932482451200485 | Test loss: 0.005023092031478882\n",
            "Epoch: 460 | Test: 0.008932482451200485 | Test loss: 0.005023092031478882\n",
            "Epoch: 470 | Test: 0.008932482451200485 | Test loss: 0.005023092031478882\n",
            "Epoch: 480 | Test: 0.008932482451200485 | Test loss: 0.005023092031478882\n",
            "Epoch: 490 | Test: 0.008932482451200485 | Test loss: 0.005023092031478882\n",
            "Epoch: 500 | Test: 0.008932482451200485 | Test loss: 0.005023092031478882\n",
            "Epoch: 510 | Test: 0.008932482451200485 | Test loss: 0.005023092031478882\n",
            "Epoch: 520 | Test: 0.008932482451200485 | Test loss: 0.005023092031478882\n",
            "Epoch: 530 | Test: 0.008932482451200485 | Test loss: 0.005023092031478882\n",
            "Epoch: 540 | Test: 0.008932482451200485 | Test loss: 0.005023092031478882\n",
            "Epoch: 550 | Test: 0.008932482451200485 | Test loss: 0.005023092031478882\n",
            "Epoch: 560 | Test: 0.008932482451200485 | Test loss: 0.005023092031478882\n",
            "Epoch: 570 | Test: 0.008932482451200485 | Test loss: 0.005023092031478882\n",
            "Epoch: 580 | Test: 0.008932482451200485 | Test loss: 0.005023092031478882\n",
            "Epoch: 590 | Test: 0.008932482451200485 | Test loss: 0.005023092031478882\n",
            "Epoch: 600 | Test: 0.008932482451200485 | Test loss: 0.005023092031478882\n",
            "Epoch: 610 | Test: 0.008932482451200485 | Test loss: 0.005023092031478882\n",
            "Epoch: 620 | Test: 0.008932482451200485 | Test loss: 0.005023092031478882\n",
            "Epoch: 630 | Test: 0.008932482451200485 | Test loss: 0.005023092031478882\n",
            "Epoch: 640 | Test: 0.008932482451200485 | Test loss: 0.005023092031478882\n",
            "Epoch: 650 | Test: 0.008932482451200485 | Test loss: 0.005023092031478882\n",
            "Epoch: 660 | Test: 0.008932482451200485 | Test loss: 0.005023092031478882\n",
            "Epoch: 670 | Test: 0.008932482451200485 | Test loss: 0.005023092031478882\n",
            "Epoch: 680 | Test: 0.008932482451200485 | Test loss: 0.005023092031478882\n",
            "Epoch: 690 | Test: 0.008932482451200485 | Test loss: 0.005023092031478882\n",
            "Epoch: 700 | Test: 0.008932482451200485 | Test loss: 0.005023092031478882\n",
            "Epoch: 710 | Test: 0.008932482451200485 | Test loss: 0.005023092031478882\n",
            "Epoch: 720 | Test: 0.008932482451200485 | Test loss: 0.005023092031478882\n",
            "Epoch: 730 | Test: 0.008932482451200485 | Test loss: 0.005023092031478882\n",
            "Epoch: 740 | Test: 0.008932482451200485 | Test loss: 0.005023092031478882\n",
            "Epoch: 750 | Test: 0.008932482451200485 | Test loss: 0.005023092031478882\n",
            "Epoch: 760 | Test: 0.008932482451200485 | Test loss: 0.005023092031478882\n",
            "Epoch: 770 | Test: 0.008932482451200485 | Test loss: 0.005023092031478882\n",
            "Epoch: 780 | Test: 0.008932482451200485 | Test loss: 0.005023092031478882\n",
            "Epoch: 790 | Test: 0.008932482451200485 | Test loss: 0.005023092031478882\n",
            "Epoch: 800 | Test: 0.008932482451200485 | Test loss: 0.005023092031478882\n",
            "Epoch: 810 | Test: 0.008932482451200485 | Test loss: 0.005023092031478882\n",
            "Epoch: 820 | Test: 0.008932482451200485 | Test loss: 0.005023092031478882\n",
            "Epoch: 830 | Test: 0.008932482451200485 | Test loss: 0.005023092031478882\n",
            "Epoch: 840 | Test: 0.008932482451200485 | Test loss: 0.005023092031478882\n",
            "Epoch: 850 | Test: 0.008932482451200485 | Test loss: 0.005023092031478882\n",
            "Epoch: 860 | Test: 0.008932482451200485 | Test loss: 0.005023092031478882\n",
            "Epoch: 870 | Test: 0.008932482451200485 | Test loss: 0.005023092031478882\n",
            "Epoch: 880 | Test: 0.008932482451200485 | Test loss: 0.005023092031478882\n",
            "Epoch: 890 | Test: 0.008932482451200485 | Test loss: 0.005023092031478882\n",
            "Epoch: 900 | Test: 0.008932482451200485 | Test loss: 0.005023092031478882\n",
            "Epoch: 910 | Test: 0.008932482451200485 | Test loss: 0.005023092031478882\n",
            "Epoch: 920 | Test: 0.008932482451200485 | Test loss: 0.005023092031478882\n",
            "Epoch: 930 | Test: 0.008932482451200485 | Test loss: 0.005023092031478882\n",
            "Epoch: 940 | Test: 0.008932482451200485 | Test loss: 0.005023092031478882\n",
            "Epoch: 950 | Test: 0.008932482451200485 | Test loss: 0.005023092031478882\n",
            "Epoch: 960 | Test: 0.008932482451200485 | Test loss: 0.005023092031478882\n",
            "Epoch: 970 | Test: 0.008932482451200485 | Test loss: 0.005023092031478882\n",
            "Epoch: 980 | Test: 0.008932482451200485 | Test loss: 0.005023092031478882\n",
            "Epoch: 990 | Test: 0.008932482451200485 | Test loss: 0.005023092031478882\n"
          ]
        }
      ]
    },
    {
      "cell_type": "code",
      "source": [
        "model_0.state_dict()"
      ],
      "metadata": {
        "colab": {
          "base_uri": "https://localhost:8080/"
        },
        "id": "2TwKZBfJtdJ1",
        "outputId": "df9260d9-cf74-49bf-8222-00d12ecd5d02"
      },
      "execution_count": 20,
      "outputs": [
        {
          "output_type": "execute_result",
          "data": {
            "text/plain": [
              "OrderedDict([('weights', tensor([0.6990])), ('bias', tensor([0.3093]))])"
            ]
          },
          "metadata": {},
          "execution_count": 20
        }
      ]
    },
    {
      "cell_type": "code",
      "source": [
        "with torch.inference_mode():\n",
        "  y_preds_new = model_0(X_test)"
      ],
      "metadata": {
        "id": "xpJt8q3UtfKq"
      },
      "execution_count": 21,
      "outputs": []
    },
    {
      "cell_type": "code",
      "source": [
        "plot_prediction(predictions=y_preds_new)"
      ],
      "metadata": {
        "colab": {
          "base_uri": "https://localhost:8080/",
          "height": 599
        },
        "id": "_jHMVGdAulsW",
        "outputId": "9a0318ff-d4d1-4348-8dfe-7237897a30b0"
      },
      "execution_count": 22,
      "outputs": [
        {
          "output_type": "display_data",
          "data": {
            "text/plain": [
              "<Figure size 1000x700 with 1 Axes>"
            ],
            "image/png": "[encoded data removed]"
          },
          "metadata": {}
        }
      ]
    },
    {
      "cell_type": "code",
      "source": [
        "# Plt the loss curves\n",
        "import numpy as np\n",
        "plt.plot(epoch_count, np.array(torch.tensor(loss_values).numpy()), label='Train Loss')# We cannot use he loss values since it is a tesnor and requires Gradient backward, so we have to tweak it\n",
        "plt.plot(epoch_count, test_loss_values, label = 'Test Loss')\n",
        "plt.title('Training and test loss curves')\n",
        "plt.ylabel('Loss')\n",
        "plt.xlabel('Epochs')\n",
        "plt.legend();"
      ],
      "metadata": {
        "colab": {
          "base_uri": "https://localhost:8080/",
          "height": 472
        },
        "id": "Rr1zjxDSykd5",
        "outputId": "cdcd6fb7-3f99-420b-bc7a-3147ba37f1d8"
      },
      "execution_count": 23,
      "outputs": [
        {
          "output_type": "display_data",
          "data": {
            "text/plain": [
              "<Figure size 640x480 with 1 Axes>"
            ],
            "image/png": "[encoded data removed]"
          },
          "metadata": {}
        }
      ]
    },
    {
      "cell_type": "markdown",
      "source": [
        "## Saving a model in PyTorch\n",
        "\n",
        "There are three main methods you should about for saving and loading models in PyTorch.\n",
        "\n",
        "1. `torch.save` - allows you save a PyTorch object in Python's pickle format\n",
        "2. `torch.load()`- allows you load a saved PyTorch object\n",
        "3. `torch.nn.Module.load_state_dict()` - this allows to load a model's saved state dictionary\n"
      ],
      "metadata": {
        "id": "iHvO-YS3z1wo"
      }
    },
    {
      "cell_type": "code",
      "source": [
        "# Saving our PyTorch model\n",
        "from pathlib import Path\n",
        "\n",
        "# 1. Create models directory\n",
        "MODEL_PATH = Path(\"models\")\n",
        "MODEL_PATH.mkdir(parents=True,exist_ok=True)\n",
        "\n",
        "# 2. Create model save path\n",
        "MODEL_NAME = 'pytorch_model_0.pth'\n",
        "MODEL_SAVE_PATH = MODEL_PATH/ MODEL_NAME\n",
        "MODEL_SAVE_PATH\n",
        "\n",
        "\n",
        "# 3. Save the model State dict\n",
        "print(f\"Saving mdoel to : {MODEL_SAVE_PATH}\")\n",
        "torch.save(obj=model_0.state_dict(),f=MODEL_SAVE_PATH)"
      ],
      "metadata": {
        "colab": {
          "base_uri": "https://localhost:8080/"
        },
        "id": "aNg0oc8DAD_3",
        "outputId": "30f94eb6-8913-4664-ded7-4002f4bf9bff"
      },
      "execution_count": 24,
      "outputs": [
        {
          "output_type": "stream",
          "name": "stdout",
          "text": [
            "Saving mdoel to : models/pytorch_model_0.pth\n"
          ]
        }
      ]
    },
    {
      "cell_type": "code",
      "source": [
        "!ls l models"
      ],
      "metadata": {
        "colab": {
          "base_uri": "https://localhost:8080/"
        },
        "id": "L8KX555KCvX6",
        "outputId": "9ecfb528-70ba-4b30-801d-ae94cfb576e2"
      },
      "execution_count": 25,
      "outputs": [
        {
          "output_type": "stream",
          "name": "stdout",
          "text": [
            "ls: cannot access 'l': No such file or directory\n",
            "models:\n",
            "pytorch_model_0.pth\n"
          ]
        }
      ]
    },
    {
      "cell_type": "markdown",
      "source": [
        "## Loading a PyTorch Model\n",
        "\n",
        "Since we saved our model's `state_dict()` rather the entire model, we'll create a new instance of our model class and load the saved `state_dict()` into that"
      ],
      "metadata": {
        "id": "Xbh-OL2RDUkQ"
      }
    },
    {
      "cell_type": "code",
      "source": [
        "model_0.state_dict()"
      ],
      "metadata": {
        "colab": {
          "base_uri": "https://localhost:8080/"
        },
        "id": "kzOViaOHro8t",
        "outputId": "971a7ff8-068a-4061-dfd2-e672a8872773"
      },
      "execution_count": 26,
      "outputs": [
        {
          "output_type": "execute_result",
          "data": {
            "text/plain": [
              "OrderedDict([('weights', tensor([0.6990])), ('bias', tensor([0.3093]))])"
            ]
          },
          "metadata": {},
          "execution_count": 26
        }
      ]
    },
    {
      "cell_type": "code",
      "source": [
        "# To load in a saved state_dict() we have to instantiate a new instace of our model class\n",
        "loaded_model_0 = LinearRegressionModel()\n",
        "\n",
        "\n",
        "# Load the saved state_dict of model_0 (this will update the new instance with updated parameters)\n",
        "loaded_model_0.load_state_dict(torch.load(f=MODEL_SAVE_PATH))"
      ],
      "metadata": {
        "colab": {
          "base_uri": "https://localhost:8080/"
        },
        "id": "VCghRXGirs5m",
        "outputId": "810c9c73-6309-4977-978f-f0c94b629112"
      },
      "execution_count": 27,
      "outputs": [
        {
          "output_type": "execute_result",
          "data": {
            "text/plain": [
              "<All keys matched successfully>"
            ]
          },
          "metadata": {},
          "execution_count": 27
        }
      ]
    },
    {
      "cell_type": "code",
      "source": [
        "loaded_model_0.state_dict()\n"
      ],
      "metadata": {
        "colab": {
          "base_uri": "https://localhost:8080/"
        },
        "id": "SMhckou8r9CY",
        "outputId": "a4e011df-0ec1-4f03-c5ac-dbca208671a2"
      },
      "execution_count": 28,
      "outputs": [
        {
          "output_type": "execute_result",
          "data": {
            "text/plain": [
              "OrderedDict([('weights', tensor([0.6990])), ('bias', tensor([0.3093]))])"
            ]
          },
          "metadata": {},
          "execution_count": 28
        }
      ]
    },
    {
      "cell_type": "code",
      "source": [
        "# Make some predictions with our loaded model\n",
        "loaded_model_0.eval()\n",
        "with torch.inference_mode():\n",
        "  loaded_model_preds = loaded_model_0(X_test)\n",
        "\n",
        "loaded_model_preds"
      ],
      "metadata": {
        "colab": {
          "base_uri": "https://localhost:8080/"
        },
        "id": "aQrDTKqRr_JX",
        "outputId": "6a056901-dca2-4484-ae03-bb78d3cedac1"
      },
      "execution_count": 29,
      "outputs": [
        {
          "output_type": "execute_result",
          "data": {
            "text/plain": [
              "tensor([[0.8685],\n",
              "        [0.8825],\n",
              "        [0.8965],\n",
              "        [0.9105],\n",
              "        [0.9245],\n",
              "        [0.9384],\n",
              "        [0.9524],\n",
              "        [0.9664],\n",
              "        [0.9804],\n",
              "        [0.9944]])"
            ]
          },
          "metadata": {},
          "execution_count": 29
        }
      ]
    },
    {
      "cell_type": "code",
      "source": [
        "# Compare loaded model preds with original model preds\n",
        "y_preds_new == loaded_model_preds"
      ],
      "metadata": {
        "colab": {
          "base_uri": "https://localhost:8080/"
        },
        "id": "OQ2149pDserW",
        "outputId": "99ce767b-e23d-49f5-85cb-7184413dfb6b"
      },
      "execution_count": 30,
      "outputs": [
        {
          "output_type": "execute_result",
          "data": {
            "text/plain": [
              "tensor([[True],\n",
              "        [True],\n",
              "        [True],\n",
              "        [True],\n",
              "        [True],\n",
              "        [True],\n",
              "        [True],\n",
              "        [True],\n",
              "        [True],\n",
              "        [True]])"
            ]
          },
          "metadata": {},
          "execution_count": 30
        }
      ]
    },
    {
      "cell_type": "markdown",
      "source": [
        "# 6. Putting it all together\n",
        "\n"
      ],
      "metadata": {
        "id": "77r0m-Zkspj-"
      }
    },
    {
      "cell_type": "code",
      "source": [
        "# Importing PyTorch and matplotlib\n",
        "import torch\n",
        "from torch import nn\n",
        "import matplotlib.pyplot as plt\n",
        "\n",
        "\n",
        "# Chekc pytorch version\n",
        "torch.__version__"
      ],
      "metadata": {
        "colab": {
          "base_uri": "https://localhost:8080/",
          "height": 36
        },
        "id": "-uI_MOVguWEm",
        "outputId": "4077d02b-19d1-45bc-da65-b42ae59a6aa3"
      },
      "execution_count": 31,
      "outputs": [
        {
          "output_type": "execute_result",
          "data": {
            "text/plain": [
              "'2.2.1+cu121'"
            ],
            "application/vnd.google.colaboratory.intrinsic+json": {
              "type": "string"
            }
          },
          "metadata": {},
          "execution_count": 31
        }
      ]
    },
    {
      "cell_type": "markdown",
      "source": [
        "Create deveice-agnostic code\n"
      ],
      "metadata": {
        "id": "uNd3FGzfvcXa"
      }
    },
    {
      "cell_type": "code",
      "source": [
        "# Setup device agnostic code\n",
        "device = 'cuda' if torch.cuda.is_available() else 'cpu'\n",
        "print(f'using Device : {device}')"
      ],
      "metadata": {
        "colab": {
          "base_uri": "https://localhost:8080/"
        },
        "id": "8rJFf9Fxve1-",
        "outputId": "8d5351e2-570f-4432-e5c9-c3853b2433b9"
      },
      "execution_count": 32,
      "outputs": [
        {
          "output_type": "stream",
          "name": "stdout",
          "text": [
            "using Device : cpu\n"
          ]
        }
      ]
    },
    {
      "cell_type": "markdown",
      "source": [
        "## 6.1 Data"
      ],
      "metadata": {
        "id": "LRGjn7z6ujQi"
      }
    },
    {
      "cell_type": "code",
      "source": [
        "# create some data using the linear regression formulae\n",
        "weight = 0.7\n",
        "bias = 0.3\n",
        "\n",
        "\n",
        "# Create range values\n",
        "start = 0\n",
        "ed = 1\n",
        "step=0.02\n",
        "\n",
        "# Create X and y\n",
        "X= torch.arange(start,end,step).unsqueeze(dim=1)\n",
        "y = weight * X +bias\n",
        "X[:10],y[:10]"
      ],
      "metadata": {
        "colab": {
          "base_uri": "https://localhost:8080/"
        },
        "id": "iBIMMVquult_",
        "outputId": "1653c85e-cb84-4deb-ccc5-80eebf36e48b"
      },
      "execution_count": 45,
      "outputs": [
        {
          "output_type": "execute_result",
          "data": {
            "text/plain": [
              "(tensor([[0.0000],\n",
              "         [0.0200],\n",
              "         [0.0400],\n",
              "         [0.0600],\n",
              "         [0.0800],\n",
              "         [0.1000],\n",
              "         [0.1200],\n",
              "         [0.1400],\n",
              "         [0.1600],\n",
              "         [0.1800]]),\n",
              " tensor([[0.3000],\n",
              "         [0.3140],\n",
              "         [0.3280],\n",
              "         [0.3420],\n",
              "         [0.3560],\n",
              "         [0.3700],\n",
              "         [0.3840],\n",
              "         [0.3980],\n",
              "         [0.4120],\n",
              "         [0.4260]]))"
            ]
          },
          "metadata": {},
          "execution_count": 45
        }
      ]
    },
    {
      "cell_type": "code",
      "source": [
        "# Split data\n",
        "train_split = int(0.8*len(X))\n",
        "X_train,y_train = X[:train_split],y[:train_split]\n",
        "X_test,y_test = X[train_split:],y[train_split:]\n",
        "len(X_train),len(X_test),len(y_train),len(y_test)"
      ],
      "metadata": {
        "colab": {
          "base_uri": "https://localhost:8080/"
        },
        "id": "7Drx3wpVwXNu",
        "outputId": "4aba047b-e4f3-4b0a-e3ef-0d5abbe78525"
      },
      "execution_count": 46,
      "outputs": [
        {
          "output_type": "execute_result",
          "data": {
            "text/plain": [
              "(40, 10, 40, 10)"
            ]
          },
          "metadata": {},
          "execution_count": 46
        }
      ]
    },
    {
      "cell_type": "code",
      "source": [
        "plot_prediction(X_train,y_train,X_test,y_test)"
      ],
      "metadata": {
        "colab": {
          "base_uri": "https://localhost:8080/",
          "height": 599
        },
        "id": "TK3PkjHOwsEc",
        "outputId": "c2ec5cbf-7781-415d-a622-22648b02e9fe"
      },
      "execution_count": 47,
      "outputs": [
        {
          "output_type": "display_data",
          "data": {
            "text/plain": [
              "<Figure size 1000x700 with 1 Axes>"
            ],
            "image/png": "[encoded data removed]"
          },
          "metadata": {}
        }
      ]
    },
    {
      "cell_type": "markdown",
      "source": [
        "## 6.2 Building a PyTorch Linear Model"
      ],
      "metadata": {
        "id": "tEgFa3rIw2Fs"
      }
    },
    {
      "cell_type": "code",
      "source": [
        "# Create a linear model by subclassing nn.Module\n",
        "class LinearRegressionModelV2(nn.Module):\n",
        "  def __init__(self):\n",
        "    super().__init__()\n",
        "    # Use nn.Linear() for creating the model parameters\n",
        "    self.linear_layer = nn.Linear(in_features=1,\n",
        "                                  out_features=1)\n",
        "\n",
        "  def forward(self,x:torch.Tensor)->torch.Tensor:\n",
        "    return self.linear_layer(x)\n",
        "\n",
        "# Set the manual seed\n",
        "torch.manual_seed(42)\n",
        "model_1 = LinearRegressionModelV2()\n",
        "model_1, model_1.state_dict()"
      ],
      "metadata": {
        "colab": {
          "base_uri": "https://localhost:8080/"
        },
        "id": "nQVlt99-w-eA",
        "outputId": "2011e437-b69f-4aa6-b00e-596f6f12d63f"
      },
      "execution_count": 48,
      "outputs": [
        {
          "output_type": "execute_result",
          "data": {
            "text/plain": [
              "(LinearRegressionModelV2(\n",
              "   (linear_layer): Linear(in_features=1, out_features=1, bias=True)\n",
              " ),\n",
              " OrderedDict([('linear_layer.weight', tensor([[0.7645]])),\n",
              "              ('linear_layer.bias', tensor([0.8300]))]))"
            ]
          },
          "metadata": {},
          "execution_count": 48
        }
      ]
    },
    {
      "cell_type": "code",
      "source": [
        "# Check the mode current device\n",
        "next(model_1.parameters()).device"
      ],
      "metadata": {
        "colab": {
          "base_uri": "https://localhost:8080/"
        },
        "id": "kb4BGF5X0rv0",
        "outputId": "742cade4-fc07-4c40-d34f-6c9a7d5c4572"
      },
      "execution_count": 49,
      "outputs": [
        {
          "output_type": "execute_result",
          "data": {
            "text/plain": [
              "device(type='cpu')"
            ]
          },
          "metadata": {},
          "execution_count": 49
        }
      ]
    },
    {
      "cell_type": "code",
      "source": [
        " # Set the model to use the target device\n",
        " model_1.to(device)\n",
        " next(model_1.parameters()).device"
      ],
      "metadata": {
        "colab": {
          "base_uri": "https://localhost:8080/"
        },
        "id": "M9YCrlU1yhV3",
        "outputId": "6b218f06-83f9-42b8-c70a-4bdcbe3aff81"
      },
      "execution_count": 50,
      "outputs": [
        {
          "output_type": "execute_result",
          "data": {
            "text/plain": [
              "device(type='cpu')"
            ]
          },
          "metadata": {},
          "execution_count": 50
        }
      ]
    },
    {
      "cell_type": "markdown",
      "source": [
        "## 6.3 Training\n",
        "\n",
        "For trianing we need:\n",
        "* Loss Function\n",
        "* Optimizer\n",
        "* Training loop\n",
        "* Testing loop"
      ],
      "metadata": {
        "id": "MNvRKC-0034T"
      }
    },
    {
      "cell_type": "code",
      "source": [
        "# Setup the loss function\n",
        "loss_fn = nn.L1Loss()\n",
        "\n",
        "# Setup our optimizer\n",
        "optimizer = torch.optim.SGD(params = model_1.parameters(),lr=0.01)"
      ],
      "metadata": {
        "id": "08i9GEA71GQf"
      },
      "execution_count": 51,
      "outputs": []
    },
    {
      "cell_type": "code",
      "source": [
        "# Lets' write a training loop\n",
        "torch.manual_seed(42)\n",
        "\n",
        "epochs = 1000\n",
        "\n",
        "# Put data on th target device\n",
        "X_train = X_train.to(device)\n",
        "y_train = y_train.to(device)\n",
        "X_test = X_test.to(device)\n",
        "y_test = y_test.to(device)\n",
        "for epoch in range(epochs):\n",
        "  model_1.train()\n",
        "\n",
        "  # 1. Forward Pass\n",
        "  y_preds = model_1(X_train)\n",
        "\n",
        "  # 2. Calculate the loss\n",
        "  loss = loss_fn(y_preds,y_train)\n",
        "\n",
        "  #3. Optimizer zero grad\n",
        "  optimizer.zero_grad()\n",
        "\n",
        "  # 4. Perform backpropogation\n",
        "  loss.backward()\n",
        "\n",
        "  # 5. Optimizer step\n",
        "  optimizer.step()\n",
        "\n",
        "  ### Testing\n",
        "  model_1.eval()\n",
        "  with torch.inference_mode():\n",
        "    test_pred = model_1(X_test)\n",
        "\n",
        "    test_loss = loss_fn(test_pred, y_test)\n",
        "\n",
        "    # Print what is happening\n",
        "    if epoch%10==0:\n",
        "      print(f'Epoch {epoch} | Loss: {loss} | Test losss : {test_loss}')"
      ],
      "metadata": {
        "colab": {
          "base_uri": "https://localhost:8080/"
        },
        "id": "oPpcIxGd1aI7",
        "outputId": "cbf02b16-84b8-4d77-9319-d5272c8d30a5"
      },
      "execution_count": 52,
      "outputs": [
        {
          "output_type": "stream",
          "name": "stdout",
          "text": [
            "Epoch 0 | Loss: 0.5551779866218567 | Test losss : 0.5739762187004089\n",
            "Epoch 10 | Loss: 0.4399680495262146 | Test losss : 0.4392663538455963\n",
            "Epoch 20 | Loss: 0.3247582018375397 | Test losss : 0.30455657839775085\n",
            "Epoch 30 | Loss: 0.20954827964305878 | Test losss : 0.16984674334526062\n",
            "Epoch 40 | Loss: 0.09433844685554504 | Test losss : 0.03513689711689949\n",
            "Epoch 50 | Loss: 0.023886386305093765 | Test losss : 0.04784906655550003\n",
            "Epoch 60 | Loss: 0.0199567973613739 | Test losss : 0.04580312222242355\n",
            "Epoch 70 | Loss: 0.016517987474799156 | Test losss : 0.0375305712223053\n",
            "Epoch 80 | Loss: 0.013089170679450035 | Test losss : 0.029944902285933495\n",
            "Epoch 90 | Loss: 0.009653178043663502 | Test losss : 0.02167237363755703\n",
            "Epoch 100 | Loss: 0.006215679459273815 | Test losss : 0.014086711220443249\n",
            "Epoch 110 | Loss: 0.002787243574857712 | Test losss : 0.005814164876937866\n",
            "Epoch 120 | Loss: 0.0012645035749301314 | Test losss : 0.013801807537674904\n",
            "Epoch 130 | Loss: 0.0012645035749301314 | Test losss : 0.013801807537674904\n",
            "Epoch 140 | Loss: 0.0012645035749301314 | Test losss : 0.013801807537674904\n",
            "Epoch 150 | Loss: 0.0012645035749301314 | Test losss : 0.013801807537674904\n",
            "Epoch 160 | Loss: 0.0012645035749301314 | Test losss : 0.013801807537674904\n",
            "Epoch 170 | Loss: 0.0012645035749301314 | Test losss : 0.013801807537674904\n",
            "Epoch 180 | Loss: 0.0012645035749301314 | Test losss : 0.013801807537674904\n",
            "Epoch 190 | Loss: 0.0012645035749301314 | Test losss : 0.013801807537674904\n",
            "Epoch 200 | Loss: 0.0012645035749301314 | Test losss : 0.013801807537674904\n",
            "Epoch 210 | Loss: 0.0012645035749301314 | Test losss : 0.013801807537674904\n",
            "Epoch 220 | Loss: 0.0012645035749301314 | Test losss : 0.013801807537674904\n",
            "Epoch 230 | Loss: 0.0012645035749301314 | Test losss : 0.013801807537674904\n",
            "Epoch 240 | Loss: 0.0012645035749301314 | Test losss : 0.013801807537674904\n",
            "Epoch 250 | Loss: 0.0012645035749301314 | Test losss : 0.013801807537674904\n",
            "Epoch 260 | Loss: 0.0012645035749301314 | Test losss : 0.013801807537674904\n",
            "Epoch 270 | Loss: 0.0012645035749301314 | Test losss : 0.013801807537674904\n",
            "Epoch 280 | Loss: 0.0012645035749301314 | Test losss : 0.013801807537674904\n",
            "Epoch 290 | Loss: 0.0012645035749301314 | Test losss : 0.013801807537674904\n",
            "Epoch 300 | Loss: 0.0012645035749301314 | Test losss : 0.013801807537674904\n",
            "Epoch 310 | Loss: 0.0012645035749301314 | Test losss : 0.013801807537674904\n",
            "Epoch 320 | Loss: 0.0012645035749301314 | Test losss : 0.013801807537674904\n",
            "Epoch 330 | Loss: 0.0012645035749301314 | Test losss : 0.013801807537674904\n",
            "Epoch 340 | Loss: 0.0012645035749301314 | Test losss : 0.013801807537674904\n",
            "Epoch 350 | Loss: 0.0012645035749301314 | Test losss : 0.013801807537674904\n",
            "Epoch 360 | Loss: 0.0012645035749301314 | Test losss : 0.013801807537674904\n",
            "Epoch 370 | Loss: 0.0012645035749301314 | Test losss : 0.013801807537674904\n",
            "Epoch 380 | Loss: 0.0012645035749301314 | Test losss : 0.013801807537674904\n",
            "Epoch 390 | Loss: 0.0012645035749301314 | Test losss : 0.013801807537674904\n",
            "Epoch 400 | Loss: 0.0012645035749301314 | Test losss : 0.013801807537674904\n",
            "Epoch 410 | Loss: 0.0012645035749301314 | Test losss : 0.013801807537674904\n",
            "Epoch 420 | Loss: 0.0012645035749301314 | Test losss : 0.013801807537674904\n",
            "Epoch 430 | Loss: 0.0012645035749301314 | Test losss : 0.013801807537674904\n",
            "Epoch 440 | Loss: 0.0012645035749301314 | Test losss : 0.013801807537674904\n",
            "Epoch 450 | Loss: 0.0012645035749301314 | Test losss : 0.013801807537674904\n",
            "Epoch 460 | Loss: 0.0012645035749301314 | Test losss : 0.013801807537674904\n",
            "Epoch 470 | Loss: 0.0012645035749301314 | Test losss : 0.013801807537674904\n",
            "Epoch 480 | Loss: 0.0012645035749301314 | Test losss : 0.013801807537674904\n",
            "Epoch 490 | Loss: 0.0012645035749301314 | Test losss : 0.013801807537674904\n",
            "Epoch 500 | Loss: 0.0012645035749301314 | Test losss : 0.013801807537674904\n",
            "Epoch 510 | Loss: 0.0012645035749301314 | Test losss : 0.013801807537674904\n",
            "Epoch 520 | Loss: 0.0012645035749301314 | Test losss : 0.013801807537674904\n",
            "Epoch 530 | Loss: 0.0012645035749301314 | Test losss : 0.013801807537674904\n",
            "Epoch 540 | Loss: 0.0012645035749301314 | Test losss : 0.013801807537674904\n",
            "Epoch 550 | Loss: 0.0012645035749301314 | Test losss : 0.013801807537674904\n",
            "Epoch 560 | Loss: 0.0012645035749301314 | Test losss : 0.013801807537674904\n",
            "Epoch 570 | Loss: 0.0012645035749301314 | Test losss : 0.013801807537674904\n",
            "Epoch 580 | Loss: 0.0012645035749301314 | Test losss : 0.013801807537674904\n",
            "Epoch 590 | Loss: 0.0012645035749301314 | Test losss : 0.013801807537674904\n",
            "Epoch 600 | Loss: 0.0012645035749301314 | Test losss : 0.013801807537674904\n",
            "Epoch 610 | Loss: 0.0012645035749301314 | Test losss : 0.013801807537674904\n",
            "Epoch 620 | Loss: 0.0012645035749301314 | Test losss : 0.013801807537674904\n",
            "Epoch 630 | Loss: 0.0012645035749301314 | Test losss : 0.013801807537674904\n",
            "Epoch 640 | Loss: 0.0012645035749301314 | Test losss : 0.013801807537674904\n",
            "Epoch 650 | Loss: 0.0012645035749301314 | Test losss : 0.013801807537674904\n",
            "Epoch 660 | Loss: 0.0012645035749301314 | Test losss : 0.013801807537674904\n",
            "Epoch 670 | Loss: 0.0012645035749301314 | Test losss : 0.013801807537674904\n",
            "Epoch 680 | Loss: 0.0012645035749301314 | Test losss : 0.013801807537674904\n",
            "Epoch 690 | Loss: 0.0012645035749301314 | Test losss : 0.013801807537674904\n",
            "Epoch 700 | Loss: 0.0012645035749301314 | Test losss : 0.013801807537674904\n",
            "Epoch 710 | Loss: 0.0012645035749301314 | Test losss : 0.013801807537674904\n",
            "Epoch 720 | Loss: 0.0012645035749301314 | Test losss : 0.013801807537674904\n",
            "Epoch 730 | Loss: 0.0012645035749301314 | Test losss : 0.013801807537674904\n",
            "Epoch 740 | Loss: 0.0012645035749301314 | Test losss : 0.013801807537674904\n",
            "Epoch 750 | Loss: 0.0012645035749301314 | Test losss : 0.013801807537674904\n",
            "Epoch 760 | Loss: 0.0012645035749301314 | Test losss : 0.013801807537674904\n",
            "Epoch 770 | Loss: 0.0012645035749301314 | Test losss : 0.013801807537674904\n",
            "Epoch 780 | Loss: 0.0012645035749301314 | Test losss : 0.013801807537674904\n",
            "Epoch 790 | Loss: 0.0012645035749301314 | Test losss : 0.013801807537674904\n",
            "Epoch 800 | Loss: 0.0012645035749301314 | Test losss : 0.013801807537674904\n",
            "Epoch 810 | Loss: 0.0012645035749301314 | Test losss : 0.013801807537674904\n",
            "Epoch 820 | Loss: 0.0012645035749301314 | Test losss : 0.013801807537674904\n",
            "Epoch 830 | Loss: 0.0012645035749301314 | Test losss : 0.013801807537674904\n",
            "Epoch 840 | Loss: 0.0012645035749301314 | Test losss : 0.013801807537674904\n",
            "Epoch 850 | Loss: 0.0012645035749301314 | Test losss : 0.013801807537674904\n",
            "Epoch 860 | Loss: 0.0012645035749301314 | Test losss : 0.013801807537674904\n",
            "Epoch 870 | Loss: 0.0012645035749301314 | Test losss : 0.013801807537674904\n",
            "Epoch 880 | Loss: 0.0012645035749301314 | Test losss : 0.013801807537674904\n",
            "Epoch 890 | Loss: 0.0012645035749301314 | Test losss : 0.013801807537674904\n",
            "Epoch 900 | Loss: 0.0012645035749301314 | Test losss : 0.013801807537674904\n",
            "Epoch 910 | Loss: 0.0012645035749301314 | Test losss : 0.013801807537674904\n",
            "Epoch 920 | Loss: 0.0012645035749301314 | Test losss : 0.013801807537674904\n",
            "Epoch 930 | Loss: 0.0012645035749301314 | Test losss : 0.013801807537674904\n",
            "Epoch 940 | Loss: 0.0012645035749301314 | Test losss : 0.013801807537674904\n",
            "Epoch 950 | Loss: 0.0012645035749301314 | Test losss : 0.013801807537674904\n",
            "Epoch 960 | Loss: 0.0012645035749301314 | Test losss : 0.013801807537674904\n",
            "Epoch 970 | Loss: 0.0012645035749301314 | Test losss : 0.013801807537674904\n",
            "Epoch 980 | Loss: 0.0012645035749301314 | Test losss : 0.013801807537674904\n",
            "Epoch 990 | Loss: 0.0012645035749301314 | Test losss : 0.013801807537674904\n"
          ]
        }
      ]
    },
    {
      "cell_type": "code",
      "source": [
        "model_1.state_dict()"
      ],
      "metadata": {
        "colab": {
          "base_uri": "https://localhost:8080/"
        },
        "id": "r2BRYByl2shl",
        "outputId": "9c2f0ffa-209a-4c1f-c6d8-479ae9e106ce"
      },
      "execution_count": 53,
      "outputs": [
        {
          "output_type": "execute_result",
          "data": {
            "text/plain": [
              "OrderedDict([('linear_layer.weight', tensor([[0.6968]])),\n",
              "             ('linear_layer.bias', tensor([0.3025]))])"
            ]
          },
          "metadata": {},
          "execution_count": 53
        }
      ]
    },
    {
      "cell_type": "markdown",
      "source": [
        "## 4. Predictions on test data"
      ],
      "metadata": {
        "id": "UFjE-XuM2-mK"
      }
    },
    {
      "cell_type": "code",
      "source": [
        "# Turn the model to evaluation mode\n",
        "model_1.eval()\n",
        "# Make predictions on the test data\n",
        "with torch.inference_mode():\n",
        "  test_preds  = model_1(X_test)\n",
        "\n",
        "plot_prediction(predictions = test_preds.cpu())"
      ],
      "metadata": {
        "colab": {
          "base_uri": "https://localhost:8080/",
          "height": 599
        },
        "id": "xTwtVQka3Lyw",
        "outputId": "d65ae399-c1e1-48ec-ba48-14466ce02ba9"
      },
      "execution_count": 54,
      "outputs": [
        {
          "output_type": "display_data",
          "data": {
            "text/plain": [
              "<Figure size 1000x700 with 1 Axes>"
            ],
            "image/png": "[encoded data removed]"
          },
          "metadata": {}
        }
      ]
    },
    {
      "cell_type": "code",
      "source": [
        "test_preds"
      ],
      "metadata": {
        "colab": {
          "base_uri": "https://localhost:8080/"
        },
        "id": "qxl2S-qm3TgK",
        "outputId": "5ddaf0d6-412e-4d22-b851-1e5029c376c7"
      },
      "execution_count": 43,
      "outputs": [
        {
          "output_type": "execute_result",
          "data": {
            "text/plain": [
              "tensor([[0.9502],\n",
              "        [0.9564],\n",
              "        [0.9626],\n",
              "        [0.9687],\n",
              "        [0.9749],\n",
              "        [0.9810],\n",
              "        [0.9872],\n",
              "        [0.9933],\n",
              "        [0.9995],\n",
              "        [1.0056]])"
            ]
          },
          "metadata": {},
          "execution_count": 43
        }
      ]
    },
    {
      "cell_type": "code",
      "source": [],
      "metadata": {
        "id": "IKXBcI-134K_"
      },
      "execution_count": 43,
      "outputs": []
    }
  ]
}