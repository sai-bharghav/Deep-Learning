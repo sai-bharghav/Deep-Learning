{
  "nbformat": 4,
  "nbformat_minor": 0,
  "metadata": {
    "colab": {
      "provenance": [],
      "authorship_tag": "ABX9TyMEI/6IsWxBSMTcZDRShxf3",
      "include_colab_link": true
    },
    "kernelspec": {
      "name": "python3",
      "display_name": "Python 3"
    },
    "language_info": {
      "name": "python"
    }
  },
  "cells": [
    {
      "cell_type": "markdown",
      "metadata": {
        "id": "view-in-github",
        "colab_type": "text"
      },
      "source": [
        "<a href=\"https://colab.research.google.com/github/sai-bharghav/Deep-Learning/blob/main/PyTorch_Workflow_Exercises.ipynb\" target=\"_parent\"><img src=\"https://colab.research.google.com/assets/colab-badge.svg\" alt=\"Open In Colab\"/></a>"
      ]
    },
    {
      "cell_type": "code",
      "execution_count": 10,
      "metadata": {
        "id": "zy_xohkKUaso"
      },
      "outputs": [],
      "source": [
        "import torch\n",
        "from torch import nn\n",
        "import matplotlib.pyplot as plt\n",
        "import numpy as np"
      ]
    },
    {
      "cell_type": "markdown",
      "source": [
        "# 1st one\n",
        "Create a straight line dataset using the linear regression formula (weight * X + bias).\n",
        "* Set weight=0.3 and bias=0.9 there should be at least 100 datapoints total.\n",
        "* Split the data into 80% training, 20% testing.\n",
        "* Plot the training and testing data so it becomes visual."
      ],
      "metadata": {
        "id": "aiZxt25HV6La"
      }
    },
    {
      "cell_type": "markdown",
      "source": [
        "## a) Set weight=0.3 and bias=0.9 there should be at least 100 datapoints total."
      ],
      "metadata": {
        "id": "Z-XXmG2YXWqW"
      }
    },
    {
      "cell_type": "code",
      "source": [
        "# Create a straight line\n",
        "weight = 0.3\n",
        "bias = 0.9\n",
        "\n",
        "device = 'cuda' if torch.cuda.is_available() else 'cpu'\n",
        "print(f'Device : {device}') # Check what is the device we are on (agnostic coding)\n",
        "\n",
        "start = 0\n",
        "end = 1\n",
        "step = 0.01\n",
        "X = torch.arange(start,end,step).unsqueeze(dim=1)\n",
        "\n",
        "# # Create y using the linear regression formulae\n",
        "y = weight * X + bias\n",
        "print(f'Length of X as a line is {len(X)} points, Shape of the tensor is {X.shape}' )"
      ],
      "metadata": {
        "colab": {
          "base_uri": "https://localhost:8080/"
        },
        "id": "N_R99Ej8WT7D",
        "outputId": "7f664906-3ffb-436b-f473-67183f73e7d7"
      },
      "execution_count": 2,
      "outputs": [
        {
          "output_type": "stream",
          "name": "stdout",
          "text": [
            "Device : cpu\n",
            "Length of X as a line is 100 points, Shape of the tensor is torch.Size([100, 1])\n"
          ]
        }
      ]
    },
    {
      "cell_type": "markdown",
      "source": [
        "## Split the data into 80% training, 20% testing."
      ],
      "metadata": {
        "id": "bOLgt49GXJda"
      }
    },
    {
      "cell_type": "code",
      "source": [
        "train_split = int(0.8 * len(X))\n",
        "\n",
        "# Split the data inot X_train , y_train, X_test, y_test\n",
        "X_train, y_train = X[:train_split], y[:train_split]\n",
        "X_test, y_test =X[train_split:],y[train_split:]\n",
        "\n",
        "len(X_train),len(X_test),len(y_train),len(y_test)"
      ],
      "metadata": {
        "colab": {
          "base_uri": "https://localhost:8080/"
        },
        "id": "9STruY06XdPc",
        "outputId": "e1d67ca2-d8d6-4042-aa83-d63cf3855c56"
      },
      "execution_count": 3,
      "outputs": [
        {
          "output_type": "execute_result",
          "data": {
            "text/plain": [
              "(80, 20, 80, 20)"
            ]
          },
          "metadata": {},
          "execution_count": 3
        }
      ]
    },
    {
      "cell_type": "code",
      "source": [
        "X_train,X_test"
      ],
      "metadata": {
        "colab": {
          "base_uri": "https://localhost:8080/"
        },
        "id": "cdQ-NY9pfs4s",
        "outputId": "2fb89e27-3fcf-4f71-dbc9-4e10204d1941"
      },
      "execution_count": 9,
      "outputs": [
        {
          "output_type": "execute_result",
          "data": {
            "text/plain": [
              "(tensor([[0.0000],\n",
              "         [0.0100],\n",
              "         [0.0200],\n",
              "         [0.0300],\n",
              "         [0.0400],\n",
              "         [0.0500],\n",
              "         [0.0600],\n",
              "         [0.0700],\n",
              "         [0.0800],\n",
              "         [0.0900],\n",
              "         [0.1000],\n",
              "         [0.1100],\n",
              "         [0.1200],\n",
              "         [0.1300],\n",
              "         [0.1400],\n",
              "         [0.1500],\n",
              "         [0.1600],\n",
              "         [0.1700],\n",
              "         [0.1800],\n",
              "         [0.1900],\n",
              "         [0.2000],\n",
              "         [0.2100],\n",
              "         [0.2200],\n",
              "         [0.2300],\n",
              "         [0.2400],\n",
              "         [0.2500],\n",
              "         [0.2600],\n",
              "         [0.2700],\n",
              "         [0.2800],\n",
              "         [0.2900],\n",
              "         [0.3000],\n",
              "         [0.3100],\n",
              "         [0.3200],\n",
              "         [0.3300],\n",
              "         [0.3400],\n",
              "         [0.3500],\n",
              "         [0.3600],\n",
              "         [0.3700],\n",
              "         [0.3800],\n",
              "         [0.3900],\n",
              "         [0.4000],\n",
              "         [0.4100],\n",
              "         [0.4200],\n",
              "         [0.4300],\n",
              "         [0.4400],\n",
              "         [0.4500],\n",
              "         [0.4600],\n",
              "         [0.4700],\n",
              "         [0.4800],\n",
              "         [0.4900],\n",
              "         [0.5000],\n",
              "         [0.5100],\n",
              "         [0.5200],\n",
              "         [0.5300],\n",
              "         [0.5400],\n",
              "         [0.5500],\n",
              "         [0.5600],\n",
              "         [0.5700],\n",
              "         [0.5800],\n",
              "         [0.5900],\n",
              "         [0.6000],\n",
              "         [0.6100],\n",
              "         [0.6200],\n",
              "         [0.6300],\n",
              "         [0.6400],\n",
              "         [0.6500],\n",
              "         [0.6600],\n",
              "         [0.6700],\n",
              "         [0.6800],\n",
              "         [0.6900],\n",
              "         [0.7000],\n",
              "         [0.7100],\n",
              "         [0.7200],\n",
              "         [0.7300],\n",
              "         [0.7400],\n",
              "         [0.7500],\n",
              "         [0.7600],\n",
              "         [0.7700],\n",
              "         [0.7800],\n",
              "         [0.7900]]),\n",
              " tensor([[0.8000],\n",
              "         [0.8100],\n",
              "         [0.8200],\n",
              "         [0.8300],\n",
              "         [0.8400],\n",
              "         [0.8500],\n",
              "         [0.8600],\n",
              "         [0.8700],\n",
              "         [0.8800],\n",
              "         [0.8900],\n",
              "         [0.9000],\n",
              "         [0.9100],\n",
              "         [0.9200],\n",
              "         [0.9300],\n",
              "         [0.9400],\n",
              "         [0.9500],\n",
              "         [0.9600],\n",
              "         [0.9700],\n",
              "         [0.9800],\n",
              "         [0.9900]]))"
            ]
          },
          "metadata": {},
          "execution_count": 9
        }
      ]
    },
    {
      "cell_type": "markdown",
      "source": [
        "## Plot the training and testing data so it becomes visual"
      ],
      "metadata": {
        "id": "LAnFmt_nXjcc"
      }
    },
    {
      "cell_type": "code",
      "source": [
        "# Let us create a fucntion like we did in the course\n",
        "def plot_predictions(train_data = X_train,\n",
        "                     train_labels = y_train,\n",
        "                     test_data = X_test,\n",
        "                     test_labels= y_test,\n",
        "                     predictions = None):\n",
        "  plt.figure(figsize=(10,7))\n",
        "  plt.scatter(train_data,train_labels,c='b',s=4,label='Training data')\n",
        "  plt.scatter(test_data,test_labels,c='g',s=4,label='Testing data')\n",
        "\n",
        "  if predictions is not None:\n",
        "    plt.scatter(test_data,predictions,c='r',s=4,label='Predictions')\n",
        "  plt.title('Plot of linear regression')\n",
        "  plt.legend()\n",
        "  plt.show()\n",
        "\n",
        "plot_predictions()"
      ],
      "metadata": {
        "colab": {
          "base_uri": "https://localhost:8080/",
          "height": 622
        },
        "id": "UZc3P4KRYryg",
        "outputId": "e664b2ba-e343-443d-d668-c716373a0f90"
      },
      "execution_count": 7,
      "outputs": [
        {
          "output_type": "display_data",
          "data": {
            "text/plain": [
              "<Figure size 1000x700 with 1 Axes>"
            ],
            "image/png": "[encoded data removed]"
          },
          "metadata": {}
        }
      ]
    },
    {
      "cell_type": "markdown",
      "source": [
        "# 2nd Question\n",
        "\n",
        "Build a PyTorch model by subclassing nn.Module.\n",
        "* Inside should be a randomly initialized `nn.Parameter()` with `requires_grad=True`, one for weights and one for bias.\n",
        "* Implement the `forward()` method to compute the linear regression function you used to create the dataset in 1.\n",
        "* Once you've constructed the model, make an instance of it and check its `state_dict()`.\n",
        "\n",
        "\n",
        "**Note**: If you'd like to use `nn.Linear()` instead of `nn.Parameter()` you can."
      ],
      "metadata": {
        "id": "JAfvyX-VgRid"
      }
    },
    {
      "cell_type": "code",
      "source": [
        "class LinearRegressionModel(nn.Module): # Inherits the parent class nn.Module (base class)\n",
        "  def __init__(self):\n",
        "      super().__init__()# call the constructor for base class\n",
        "      self.linear_layer = nn.Linear(in_features=1,out_features=1) # Define the layer\n",
        "  def forward(self,x:torch.Tensor)->torch.Tensor: # SHould override the method whenever a class inherits nn.Module class\n",
        "    return self.linear_layer(x)\n",
        "torch.manual_seed(43)# Setting a manual seed\n",
        "model_0 = LinearRegressionModel() # Instanciate the model\n",
        "model_0.state_dict()# Check the dict"
      ],
      "metadata": {
        "colab": {
          "base_uri": "https://localhost:8080/"
        },
        "id": "Cdd6PT9Gg7XV",
        "outputId": "7d5c450e-a9fa-40e6-e1b1-d2c2219b4c44"
      },
      "execution_count": 14,
      "outputs": [
        {
          "output_type": "execute_result",
          "data": {
            "text/plain": [
              "OrderedDict([('linear_layer.weight', tensor([[-0.0921]])),\n",
              "             ('linear_layer.bias', tensor([-0.6070]))])"
            ]
          },
          "metadata": {},
          "execution_count": 14
        }
      ]
    },
    {
      "cell_type": "code",
      "source": [
        "next(model_0.parameters()).device"
      ],
      "metadata": {
        "colab": {
          "base_uri": "https://localhost:8080/"
        },
        "id": "iVT-i6jEh-5h",
        "outputId": "cb4e1bd0-6f7d-406c-c5f0-a5fbfed8fead"
      },
      "execution_count": 16,
      "outputs": [
        {
          "output_type": "execute_result",
          "data": {
            "text/plain": [
              "device(type='cpu')"
            ]
          },
          "metadata": {},
          "execution_count": 16
        }
      ]
    },
    {
      "cell_type": "code",
      "source": [
        "model_0.to(device)\n",
        "next(model_0.parameters()).device"
      ],
      "metadata": {
        "colab": {
          "base_uri": "https://localhost:8080/"
        },
        "id": "sRiqCgE7iJuV",
        "outputId": "8bc70ef1-ec31-413a-8d90-86517a543330"
      },
      "execution_count": 19,
      "outputs": [
        {
          "output_type": "execute_result",
          "data": {
            "text/plain": [
              "device(type='cpu')"
            ]
          },
          "metadata": {},
          "execution_count": 19
        }
      ]
    },
    {
      "cell_type": "markdown",
      "source": [
        "# 3rd Question\n"
      ],
      "metadata": {
        "id": "zbC09i8NiW50"
      }
    },
    {
      "cell_type": "markdown",
      "source": [
        "## a) Create a loss function and optimizer using nn.L1Loss() and torch.optim.SGD(params, lr) respectively\n",
        "* Set the learning rate of the optimizer to be 0.01 and the parameters to optimize should be the model parameters from the model you created in 2."
      ],
      "metadata": {
        "id": "c_y23obtirI6"
      }
    },
    {
      "cell_type": "code",
      "source": [
        "# Set up the loss function\n",
        "loss_fn = torch.nn.L1Loss()\n",
        "\n",
        "# Set up the optimizer\n",
        "optimizer = torch.optim.SGD(params=model_0.parameters(),lr=0.01)\n"
      ],
      "metadata": {
        "id": "uibtnAa-iuqj"
      },
      "execution_count": 20,
      "outputs": []
    },
    {
      "cell_type": "markdown",
      "source": [
        "## b) Write a training loop to perform the appropriate training steps for 300 epochs\n",
        "* The training loop should test the model on the test dataset every 20 epochs."
      ],
      "metadata": {
        "id": "RcLYISQujadH"
      }
    },
    {
      "cell_type": "code",
      "source": [
        "# Set the epochs\n",
        "epochs = 300\n",
        "\n",
        "epoch_list=[]\n",
        "loss_track=[]\n",
        "test_loss_track=[]\n",
        "\n",
        "for epoch in range(epochs):\n",
        "  # Set the model to training mode\n",
        "  model_0.train()\n",
        "\n",
        "  # Forward pass\n",
        "  y_preds=model_0(X_train)\n",
        "\n",
        "  # loss function\n",
        "  loss= loss_fn(y_preds,y_train)\n",
        "\n",
        "  # Optimizer zero grad\n",
        "  optimizer.zero_grad()\n",
        "\n",
        "  # backward propogation\n",
        "  loss.backward()\n",
        "\n",
        "  # Perform gradient descent\n",
        "  optimizer.step()\n",
        "\n",
        "  ## TESTING\n",
        "  # set the model to evaluation mode to stop some settings\n",
        "  model_0.eval()\n",
        "  with torch.inference_mode():\n",
        "    # predict the values\n",
        "    test_values = model_0(X_test)\n",
        "    # loss function for y_test\n",
        "    test_loss = loss_fn(test_values,y_test)\n",
        "\n",
        "    if epoch%20==0:\n",
        "      print(f'Epoch : {epoch} | test loss : {test_loss} | Training loss : {loss}')"
      ],
      "metadata": {
        "colab": {
          "base_uri": "https://localhost:8080/"
        },
        "id": "ke9YpWEcjmND",
        "outputId": "e1a755fb-6dcc-4dd5-cb4e-dbcb31f6f3f8"
      },
      "execution_count": 26,
      "outputs": [
        {
          "output_type": "stream",
          "name": "stdout",
          "text": [
            "Epoch : 0 | test loss : 0.0065288422629237175 | Training loss : 0.0032220049761235714\n",
            "Epoch : 20 | test loss : 0.0065288422629237175 | Training loss : 0.0032220049761235714\n",
            "Epoch : 40 | test loss : 0.0065288422629237175 | Training loss : 0.0032220049761235714\n",
            "Epoch : 60 | test loss : 0.0065288422629237175 | Training loss : 0.0032220049761235714\n",
            "Epoch : 80 | test loss : 0.0065288422629237175 | Training loss : 0.0032220049761235714\n",
            "Epoch : 100 | test loss : 0.0065288422629237175 | Training loss : 0.0032220049761235714\n",
            "Epoch : 120 | test loss : 0.0065288422629237175 | Training loss : 0.0032220049761235714\n",
            "Epoch : 140 | test loss : 0.0065288422629237175 | Training loss : 0.0032220049761235714\n",
            "Epoch : 160 | test loss : 0.0065288422629237175 | Training loss : 0.0032220049761235714\n",
            "Epoch : 180 | test loss : 0.0065288422629237175 | Training loss : 0.0032220049761235714\n",
            "Epoch : 200 | test loss : 0.0065288422629237175 | Training loss : 0.0032220049761235714\n",
            "Epoch : 220 | test loss : 0.0065288422629237175 | Training loss : 0.0032220049761235714\n",
            "Epoch : 240 | test loss : 0.0065288422629237175 | Training loss : 0.0032220049761235714\n",
            "Epoch : 260 | test loss : 0.0065288422629237175 | Training loss : 0.0032220049761235714\n",
            "Epoch : 280 | test loss : 0.0065288422629237175 | Training loss : 0.0032220049761235714\n"
          ]
        }
      ]
    },
    {
      "cell_type": "code",
      "source": [
        "# Let us check the state_dcit\n",
        "model_0.state_dict()"
      ],
      "metadata": {
        "colab": {
          "base_uri": "https://localhost:8080/"
        },
        "id": "bGblXZW19Q87",
        "outputId": "4043544b-b8e3-4ab8-cc31-b1cb2548d342"
      },
      "execution_count": 27,
      "outputs": [
        {
          "output_type": "execute_result",
          "data": {
            "text/plain": [
              "OrderedDict([('linear_layer.weight', tensor([[0.3076]])),\n",
              "             ('linear_layer.bias', tensor([0.9002]))])"
            ]
          },
          "metadata": {},
          "execution_count": 27
        }
      ]
    },
    {
      "cell_type": "markdown",
      "source": [
        "# 4 Question\n",
        "Make predictions with the trained model on the test data.\n",
        "* Visualize these predictions against the original training and testing data (note: you may need to make sure the predictions are not on the GPU if you want to use non-CUDA-enabled libraries such as matplotlib to plot)."
      ],
      "metadata": {
        "id": "ymvSx7tt9_qh"
      }
    },
    {
      "cell_type": "code",
      "source": [
        "# Predictions\n",
        "with torch.inference_mode():\n",
        "  test_preds = model_0(X_test)\n",
        "test_preds"
      ],
      "metadata": {
        "colab": {
          "base_uri": "https://localhost:8080/"
        },
        "id": "XZ8z7sz89byR",
        "outputId": "bc97b9b4-fa27-4bd3-c8cd-27fcd30a220f"
      },
      "execution_count": 28,
      "outputs": [
        {
          "output_type": "execute_result",
          "data": {
            "text/plain": [
              "tensor([[1.1463],\n",
              "        [1.1494],\n",
              "        [1.1524],\n",
              "        [1.1555],\n",
              "        [1.1586],\n",
              "        [1.1617],\n",
              "        [1.1647],\n",
              "        [1.1678],\n",
              "        [1.1709],\n",
              "        [1.1740],\n",
              "        [1.1770],\n",
              "        [1.1801],\n",
              "        [1.1832],\n",
              "        [1.1863],\n",
              "        [1.1893],\n",
              "        [1.1924],\n",
              "        [1.1955],\n",
              "        [1.1986],\n",
              "        [1.2016],\n",
              "        [1.2047]])"
            ]
          },
          "metadata": {},
          "execution_count": 28
        }
      ]
    },
    {
      "cell_type": "code",
      "source": [
        "plot_predictions(predictions=test_preds)"
      ],
      "metadata": {
        "colab": {
          "base_uri": "https://localhost:8080/",
          "height": 622
        },
        "id": "euhHt3Ms9oLq",
        "outputId": "9926d7cb-d24d-46a3-ca1e-a6ad16af5282"
      },
      "execution_count": 29,
      "outputs": [
        {
          "output_type": "display_data",
          "data": {
            "text/plain": [
              "<Figure size 1000x700 with 1 Axes>"
            ],
            "image/png": "[encoded data removed]"
          },
          "metadata": {}
        }
      ]
    },
    {
      "cell_type": "code",
      "source": [],
      "metadata": {
        "id": "cxj89P7B91Pk"
      },
      "execution_count": null,
      "outputs": []
    }
  ]
}